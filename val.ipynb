{
 "cells": [
  {
   "cell_type": "markdown",
   "metadata": {},
   "source": [
    "# Funciones y modelos"
   ]
  },
  {
   "cell_type": "code",
   "execution_count": 1,
   "metadata": {},
   "outputs": [],
   "source": [
    "from funciones import get_nontrivial_words, matriz_confusion, confusiones_principales, categorias_para_mejorar\n",
    "from modelos import WordMagic, EnsambleSuma"
   ]
  },
  {
   "cell_type": "markdown",
   "metadata": {},
   "source": [
    "# Leemos los datos"
   ]
  },
  {
   "cell_type": "code",
   "execution_count": 2,
   "metadata": {},
   "outputs": [],
   "source": [
    "import pandas as pd\n",
    "df_train = pd.read_csv(\"train.csv\")\n",
    "df_test = pd.read_csv(\"test.csv\")"
   ]
  },
  {
   "cell_type": "markdown",
   "metadata": {},
   "source": [
    "# Procesamos los títulos para extraer palabras"
   ]
  },
  {
   "cell_type": "code",
   "execution_count": 3,
   "metadata": {},
   "outputs": [
    {
     "data": {
      "application/vnd.jupyter.widget-view+json": {
       "model_id": "7c53ba6a3b4543559e15818b817ceb90",
       "version_major": 2,
       "version_minor": 0
      },
      "text/plain": [
       "HBox(children=(IntProgress(value=0, max=20000000), HTML(value='')))"
      ]
     },
     "metadata": {},
     "output_type": "display_data"
    },
    {
     "name": "stdout",
     "output_type": "stream",
     "text": [
      "\n"
     ]
    },
    {
     "data": {
      "application/vnd.jupyter.widget-view+json": {
       "model_id": "9ab8966a21884638b19d88c0ece333da",
       "version_major": 2,
       "version_minor": 0
      },
      "text/plain": [
       "HBox(children=(IntProgress(value=0, max=246955), HTML(value='')))"
      ]
     },
     "metadata": {},
     "output_type": "display_data"
    },
    {
     "name": "stdout",
     "output_type": "stream",
     "text": [
      "\n"
     ]
    }
   ],
   "source": [
    "from tqdm.auto import tqdm\n",
    "tqdm.pandas()\n",
    "df_train[\"title\"] = df_train['title'].progress_apply(get_nontrivial_words)\n",
    "df_test[\"title\"] = df_test['title'].progress_apply(get_nontrivial_words)"
   ]
  },
  {
   "cell_type": "markdown",
   "metadata": {},
   "source": [
    "# Para validar tomamos un pedazo reliable del mismo tamaño que test"
   ]
  },
  {
   "cell_type": "code",
   "execution_count": 4,
   "metadata": {},
   "outputs": [],
   "source": [
    "from sklearn.model_selection import train_test_split\n",
    "X, X_val = train_test_split(df_train, test_size=0.21, random_state=42)"
   ]
  },
  {
   "cell_type": "code",
   "execution_count": 5,
   "metadata": {},
   "outputs": [],
   "source": [
    "X_val_reliable = X_val[X_val[\"label_quality\"]==\"reliable\"]"
   ]
  },
  {
   "cell_type": "code",
   "execution_count": 6,
   "metadata": {},
   "outputs": [
    {
     "data": {
      "text/plain": [
       "248809"
      ]
     },
     "execution_count": 6,
     "metadata": {},
     "output_type": "execute_result"
    }
   ],
   "source": [
    "len(X_val_reliable)"
   ]
  },
  {
   "cell_type": "markdown",
   "metadata": {},
   "source": [
    "# Class weights (elegidos para optimizar balanced accuracy)"
   ]
  },
  {
   "cell_type": "code",
   "execution_count": 7,
   "metadata": {},
   "outputs": [],
   "source": [
    "def cantidad_apariciones(df):\n",
    "    f ={}\n",
    "    l = list(df[\"category\"])\n",
    "    for c in l:\n",
    "        if c in f:\n",
    "            f[c]+=1\n",
    "        else:\n",
    "            f[c]=1\n",
    "    return f\n",
    "\n",
    "def frequencies(df):\n",
    "    f = cantidad_apariciones(df)\n",
    "    for c in f:\n",
    "        f[c]/=len(df)\n",
    "    return f\n",
    "\n",
    "freq = frequencies(df_train)\n",
    "class_weights = lambda c : 1/freq[c]"
   ]
  },
  {
   "cell_type": "markdown",
   "metadata": {},
   "source": [
    "# Entrenamos"
   ]
  },
  {
   "cell_type": "code",
   "execution_count": 8,
   "metadata": {},
   "outputs": [
    {
     "name": "stdout",
     "output_type": "stream",
     "text": [
      "Extrayendo palabras de los títulos:\n"
     ]
    },
    {
     "data": {
      "application/vnd.jupyter.widget-view+json": {
       "model_id": "922b165f69c0425db4f329151cc8b4ac",
       "version_major": 2,
       "version_minor": 0
      },
      "text/plain": [
       "HBox(children=(IntProgress(value=0, max=15800000), HTML(value='')))"
      ]
     },
     "metadata": {},
     "output_type": "display_data"
    },
    {
     "name": "stdout",
     "output_type": "stream",
     "text": [
      "\n",
      "Entrenando modelo en  1 -uplas...\n"
     ]
    },
    {
     "data": {
      "application/vnd.jupyter.widget-view+json": {
       "model_id": "d3e49452607d4876bc22a2021b44a9f2",
       "version_major": 2,
       "version_minor": 0
      },
      "text/plain": [
       "HBox(children=(IntProgress(value=0, max=15800000), HTML(value='')))"
      ]
     },
     "metadata": {},
     "output_type": "display_data"
    },
    {
     "name": "stdout",
     "output_type": "stream",
     "text": [
      "\n",
      "Normalizando...\n"
     ]
    },
    {
     "data": {
      "application/vnd.jupyter.widget-view+json": {
       "model_id": "2816620419334e76b7f1c8262c7655ca",
       "version_major": 2,
       "version_minor": 0
      },
      "text/plain": [
       "HBox(children=(IntProgress(value=0, max=1761475), HTML(value='')))"
      ]
     },
     "metadata": {},
     "output_type": "display_data"
    },
    {
     "name": "stdout",
     "output_type": "stream",
     "text": [
      "\n",
      "Entrenamiento completo.\n",
      "\n",
      "Extrayendo palabras de los títulos:\n"
     ]
    },
    {
     "data": {
      "application/vnd.jupyter.widget-view+json": {
       "model_id": "d6c292d4bccc4355808ed755e960409e",
       "version_major": 2,
       "version_minor": 0
      },
      "text/plain": [
       "HBox(children=(IntProgress(value=0, max=15800000), HTML(value='')))"
      ]
     },
     "metadata": {},
     "output_type": "display_data"
    },
    {
     "name": "stdout",
     "output_type": "stream",
     "text": [
      "\n",
      "Entrenando modelo en  2 -uplas...\n"
     ]
    },
    {
     "data": {
      "application/vnd.jupyter.widget-view+json": {
       "model_id": "d75f1a6a066445aca3be74e3cb520d34",
       "version_major": 2,
       "version_minor": 0
      },
      "text/plain": [
       "HBox(children=(IntProgress(value=0, max=15800000), HTML(value='')))"
      ]
     },
     "metadata": {},
     "output_type": "display_data"
    },
    {
     "name": "stdout",
     "output_type": "stream",
     "text": [
      "\n",
      "Normalizando...\n"
     ]
    },
    {
     "data": {
      "application/vnd.jupyter.widget-view+json": {
       "model_id": "313f24303da94fada2d1a29031fea81f",
       "version_major": 2,
       "version_minor": 0
      },
      "text/plain": [
       "HBox(children=(IntProgress(value=0, max=59727215), HTML(value='')))"
      ]
     },
     "metadata": {},
     "output_type": "display_data"
    },
    {
     "name": "stdout",
     "output_type": "stream",
     "text": [
      "\n",
      "Entrenamiento completo.\n",
      "\n",
      "Extrayendo palabras de los títulos:\n"
     ]
    },
    {
     "data": {
      "application/vnd.jupyter.widget-view+json": {
       "model_id": "76cdfe224072463c95bb354485094348",
       "version_major": 2,
       "version_minor": 0
      },
      "text/plain": [
       "HBox(children=(IntProgress(value=0, max=15800000), HTML(value='')))"
      ]
     },
     "metadata": {},
     "output_type": "display_data"
    },
    {
     "name": "stdout",
     "output_type": "stream",
     "text": [
      "\n",
      "Entrenando modelo en  3 -uplas...\n"
     ]
    },
    {
     "data": {
      "application/vnd.jupyter.widget-view+json": {
       "model_id": "5f88863dce2c4e36be39f72e90360005",
       "version_major": 2,
       "version_minor": 0
      },
      "text/plain": [
       "HBox(children=(IntProgress(value=0, max=15800000), HTML(value='')))"
      ]
     },
     "metadata": {},
     "output_type": "display_data"
    },
    {
     "name": "stdout",
     "output_type": "stream",
     "text": [
      "\n",
      "Normalizando...\n"
     ]
    },
    {
     "data": {
      "application/vnd.jupyter.widget-view+json": {
       "model_id": "c2d840726ca14db4b7c6bc82850fe221",
       "version_major": 2,
       "version_minor": 0
      },
      "text/plain": [
       "HBox(children=(IntProgress(value=0, max=399091098), HTML(value='')))"
      ]
     },
     "metadata": {},
     "output_type": "display_data"
    },
    {
     "name": "stdout",
     "output_type": "stream",
     "text": [
      "\n",
      "Entrenamiento completo.\n",
      "\n"
     ]
    }
   ],
   "source": [
    "model1 = WordMagic(\n",
    "    n = 1,\n",
    "    word_getter = lambda x : x,\n",
    "    class_weights = class_weights,\n",
    "    normalizar_predict_proba = False,\n",
    "    sacar_repetidos = False,\n",
    ")\n",
    "model2 = WordMagic(\n",
    "    n = 2,\n",
    "    word_getter = lambda x : x,\n",
    "    class_weights = class_weights,\n",
    "    normalizar_predict_proba = False,\n",
    ")\n",
    "model3 = WordMagic(\n",
    "    n = 3,\n",
    "    word_getter = lambda x : x,\n",
    "    class_weights = class_weights,\n",
    "    normalizar_predict_proba = False,\n",
    ")\n",
    "\n",
    "model1.fit(X)\n",
    "model2.fit(X)\n",
    "model3.fit(X)\n",
    "\n",
    "ensamble = EnsambleSuma( [model1, model2, model3], pesos = [1,1,1], random_guess = \"ICE_CREAM_MACHINES\" )"
   ]
  },
  {
   "cell_type": "markdown",
   "metadata": {},
   "source": [
    "# Score de validación"
   ]
  },
  {
   "cell_type": "code",
   "execution_count": 9,
   "metadata": {},
   "outputs": [
    {
     "data": {
      "application/vnd.jupyter.widget-view+json": {
       "model_id": "b23a804b65084a3ba3df6c445e659191",
       "version_major": 2,
       "version_minor": 0
      },
      "text/plain": [
       "HBox(children=(IntProgress(value=0, max=248809), HTML(value='')))"
      ]
     },
     "metadata": {},
     "output_type": "display_data"
    },
    {
     "name": "stdout",
     "output_type": "stream",
     "text": [
      "\n"
     ]
    },
    {
     "name": "stderr",
     "output_type": "stream",
     "text": [
      "/usr/local/lib/python3.6/dist-packages/ipykernel_launcher.py:2: SettingWithCopyWarning: \n",
      "A value is trying to be set on a copy of a slice from a DataFrame.\n",
      "Try using .loc[row_indexer,col_indexer] = value instead\n",
      "\n",
      "See the caveats in the documentation: http://pandas.pydata.org/pandas-docs/stable/indexing.html#indexing-view-versus-copy\n",
      "  \n"
     ]
    },
    {
     "name": "stdout",
     "output_type": "stream",
     "text": [
      "score val:  0.884491774075475\n"
     ]
    },
    {
     "name": "stderr",
     "output_type": "stream",
     "text": [
      "/usr/local/lib/python3.6/dist-packages/sklearn/metrics/classification.py:1745: UserWarning: y_pred contains classes not in y_true\n",
      "  warnings.warn('y_pred contains classes not in y_true')\n"
     ]
    }
   ],
   "source": [
    "from sklearn.metrics import balanced_accuracy_score\n",
    "X_val_reliable[\"predicted_category\"] = ensamble.predict(X_val_reliable)\n",
    "print(\"score val: \", balanced_accuracy_score(X_val_reliable[\"category\"], X_val_reliable[\"predicted_category\"]))"
   ]
  },
  {
   "cell_type": "markdown",
   "metadata": {},
   "source": [
    "# Estudiamos la matriz de confusiones"
   ]
  },
  {
   "cell_type": "code",
   "execution_count": 10,
   "metadata": {},
   "outputs": [
    {
     "name": "stderr",
     "output_type": "stream",
     "text": [
      "/home/ubuntu/disco/ml-challenge-MeLi-2019/version prolija/funciones.py:60: RuntimeWarning: invalid value encountered in true_divide\n",
      "  CM = ( N/N.sum(axis=1)[:,None], number_cat)\n"
     ]
    }
   ],
   "source": [
    "categories = sorted(list(set(df_train[\"category\"])))\n",
    "CM = matriz_confusion(X_val_reliable[\"category\"], X_val_reliable[\"predicted_category\"], categories)"
   ]
  },
  {
   "cell_type": "code",
   "execution_count": 11,
   "metadata": {},
   "outputs": [
    {
     "name": "stdout",
     "output_type": "stream",
     "text": [
      "Hay  228 categorias para mejorar.\n"
     ]
    },
    {
     "data": {
      "text/plain": [
       "['ACTION_FIGURES',\n",
       " 'AFTERSHAVES',\n",
       " 'AIRGUN_PELLETS',\n",
       " 'AIR_FRESHENERS',\n",
       " 'ANTIQUE_CHAIRS',\n",
       " 'ANTIQUE_TAPE_RECORDERS',\n",
       " 'APERITIFS',\n",
       " 'ARTIFICIAL_PLANTS',\n",
       " 'AUDIO_AMPLIFIERS',\n",
       " 'AUDIO_AND_VIDEO_CABLES_AND_ADAPTERS',\n",
       " 'AUTOMOTIVE_ARMRESTS',\n",
       " 'AUTOMOTIVE_BATTERIES',\n",
       " 'AUTOMOTIVE_BUMPER_GRILLES',\n",
       " 'AUTOMOTIVE_CLUTCH_MASTER_CYLINDERS',\n",
       " 'AUTOMOTIVE_CV_JOINT_BOOTS',\n",
       " 'AUTOMOTIVE_DOORS',\n",
       " 'AUTOMOTIVE_FRONT_BUMPERS',\n",
       " 'AUTOMOTIVE_MIRROR_COVERS',\n",
       " 'AUTOMOTIVE_SHOCK_ABSORBERS',\n",
       " 'AUTOMOTIVE_TRANSMISSION_GEARS',\n",
       " 'BABY_BLANKETS',\n",
       " 'BARBECUE_TOOL_SETS',\n",
       " 'BAR_SOAPS',\n",
       " 'BATHROOM_ACCESSORIES_SETS',\n",
       " 'BEACH_BALLS',\n",
       " 'BEACH_PADDLES',\n",
       " 'BICYCLE_BAGS',\n",
       " 'BINDING_SPINES',\n",
       " 'BODY_SKIN_CARE_PRODUCTS',\n",
       " 'BOOKS',\n",
       " 'BOXING_HEADGEARS',\n",
       " 'BRICKS',\n",
       " 'BUMPER_IMPACT_ABSORBERS',\n",
       " 'BUTT_PLUGS',\n",
       " 'CAKE_TOPPERS',\n",
       " 'CAMERA_CASES',\n",
       " 'CAMERA_FLASHES',\n",
       " 'CAMERA_STRAPS',\n",
       " 'CAMPING_STOVES',\n",
       " 'CANDIES',\n",
       " 'CANDLE_HOLDERS',\n",
       " 'CARDS_AND_INVITATIONS',\n",
       " 'CAR_AC_HOSE_ASSEMBLIES',\n",
       " 'CAR_AIR_FRESHENERS',\n",
       " 'CAR_CENTER_CONSOLES',\n",
       " 'CAR_FRONT_MASKS',\n",
       " 'CAR_HOODS',\n",
       " 'CASH_REGISTERS',\n",
       " 'CELLPHONE_TABLET_AND_GPS_SCREEN_PROTECTORS',\n",
       " 'CELLPHONE_USB_AND_AUXILIARY_ADAPTERS',\n",
       " 'CHESTS',\n",
       " 'CHIP_AND_DIP_SERVERS',\n",
       " 'CLASSIC_CARS',\n",
       " 'COAT_RACKS',\n",
       " 'COIN_PURSES',\n",
       " 'COLLECTIBLE_CANS_BOTTLES_AND_SODA_SIPHONS',\n",
       " 'COMICS',\n",
       " 'COMPRESSION_SLEEVES',\n",
       " 'COMPUTER_MOTHERBOARDS',\n",
       " 'CONSTRUCTION_PROFILES',\n",
       " 'CONTINUOUS_LIGHTING',\n",
       " 'CUPCAKE_STANDS',\n",
       " 'CUSHIONS',\n",
       " 'DATA_CABLES_AND_ADAPTERS',\n",
       " 'DECORATIVE_BASKETS',\n",
       " 'DECORATIVE_VASES',\n",
       " 'DECORATIVE_VINYLS',\n",
       " 'DENTAL_PLIERS',\n",
       " 'DEODORANTS',\n",
       " 'DIGITAL_PORTABLE_MEDIA_PLAYERS',\n",
       " 'DINING_TABLES',\n",
       " 'DISC_PACKAGINGS',\n",
       " 'DISHES_RACKS',\n",
       " 'DISTRIBUTION_KITS',\n",
       " 'DJ_EFFECTS_PROCESSORS',\n",
       " 'DJ_TURNTABLES',\n",
       " 'DOOR_AND_WINDOW_LOCKS',\n",
       " 'DRUMSTICKS_MALLETS_AND_BRUSHES',\n",
       " 'ELECTRICITY_METERS',\n",
       " 'ELECTRIC_CHAINSAWS',\n",
       " 'ELECTRIC_DEMOLITION_HAMMERS',\n",
       " 'ELECTRIC_GRILLS',\n",
       " 'ELECTRIC_LAWN_MOWERS',\n",
       " 'ELECTRIC_SCREWDRIVERS',\n",
       " 'ELECTRONIC_SWITCHES',\n",
       " 'ENERGETIC_STONES',\n",
       " 'ENGINE_COOLING_FAN_SWITCHES',\n",
       " 'ENGINE_CRANKSHAFT_POSITION_SENSORS',\n",
       " 'ENGINE_CYLINDER_HEAD_BOLTS',\n",
       " 'ENGINE_GASKET_SETS',\n",
       " 'ENGINE_INTAKE_HOSES',\n",
       " 'EROTIC_ANAL_AND_VAGINAL_DOUCHES',\n",
       " 'FISHING_LURES',\n",
       " 'FISHING_VESTS',\n",
       " 'FLATWARE_ORGANIZERS',\n",
       " 'FLOOR_LAMPS',\n",
       " 'FUEL_INJECTION_RAILS',\n",
       " 'GARAGE_DOORS',\n",
       " 'GARDENING_AND_AGRICULTURE_SEEDS',\n",
       " 'GARDEN_BENCHES',\n",
       " 'GAUZES',\n",
       " 'GEL_NAIL_KITS',\n",
       " 'GYM_BARS',\n",
       " 'HAIR_MOLDING_AND_STYLING',\n",
       " 'HAIR_TREATMENTS',\n",
       " 'HANDICRAFT_BOXES',\n",
       " 'HATS_AND_CAPS',\n",
       " 'HEADPHONES',\n",
       " 'HOME_SHELVES',\n",
       " 'HOME_THEATERS',\n",
       " 'HOOD_HINGES',\n",
       " 'ICE_MAKERS',\n",
       " 'IGNITION_CONTROL_MODULES',\n",
       " 'INDUSTRIAL_SAWS',\n",
       " 'INJECTION_PUMPS',\n",
       " 'INK_CARTRIDGES',\n",
       " 'INTERCOOLER_HOSES',\n",
       " 'IRRIGATION_SPRINKLERS',\n",
       " 'IRRIGATION_VALVES',\n",
       " 'JUMPSUITS_AND_OVERALLS',\n",
       " 'KEYBOARD_CONTROLLERS',\n",
       " 'KEYCHAINS',\n",
       " 'KEY_RACKS',\n",
       " 'KIDS_PLAYHOUSES',\n",
       " 'KIDS_TABLES_AND_CHAIRS_SETS',\n",
       " 'KITCHEN_BOWLS',\n",
       " 'LAPTOP_BRIEFCASES',\n",
       " 'LAUNDRY_BASKETS',\n",
       " 'LAWN_MOWER_BLADES',\n",
       " 'LENS_HOODS',\n",
       " 'LIQUID_HAND_AND_BODY_SOAPS',\n",
       " 'MEAT_GRINDERS',\n",
       " 'MERCHANDISER_REFRIGERATORS',\n",
       " 'MICROCONTROLLERS',\n",
       " 'MILK',\n",
       " 'MIRROR_BALLS',\n",
       " 'MODEMS',\n",
       " 'MONEY_BOXES',\n",
       " 'MOTORCYCLE_FAIRINGS',\n",
       " 'MOTORCYCLE_GRAB_BARS',\n",
       " 'MOTORCYCLE_OIL_PUMPS',\n",
       " 'MOTORCYCLE_SIDE_CASES',\n",
       " 'MOTORCYCLE_TRANSMISSION_KITS',\n",
       " 'MOVIES',\n",
       " 'MUGS',\n",
       " 'MUSIC_ALBUMS',\n",
       " 'NAIL_POLISH',\n",
       " 'NECKLACES',\n",
       " 'NECK_GAITERS_MASKS_AND_BALACLAVAS',\n",
       " 'OIL_DIFFUSERS',\n",
       " 'OUTDOOR_TABLES',\n",
       " 'PANTS',\n",
       " 'PASTAS',\n",
       " 'PATIO_FURNITURE_SETS',\n",
       " 'PENDRIVES',\n",
       " 'PENIS_RINGS',\n",
       " 'PENIS_SLEEVES',\n",
       " 'PENNANTS',\n",
       " 'PIPE_CUTTERS',\n",
       " 'POLY_MAILERS',\n",
       " 'POOL_PAINTS',\n",
       " 'POOL_WATERFALLS',\n",
       " 'POUFS',\n",
       " 'POWER_STEERING_FLUID_RESERVOIRS',\n",
       " 'PRESSURE_GAUGES',\n",
       " 'PROJECTOR_LAMPS',\n",
       " 'PROJECTOR_MOUNTS',\n",
       " 'PUSH_AND_RIDING_TOYS',\n",
       " 'RACKS_AND_PINIONS',\n",
       " 'RADIO_BASE_STATIONS',\n",
       " 'READY_TO_DRINK_COCKTAILS',\n",
       " 'ROLL_BARS',\n",
       " 'ROOSTERS_AND_HENS',\n",
       " 'SAFETY_HARNESSES',\n",
       " 'SCREEN_PRINTING_MACHINES',\n",
       " 'SCREWS',\n",
       " 'SCULPTURES',\n",
       " 'SHAVING_MACHINES',\n",
       " 'SHOCK_MOUNT_INSOLATORS',\n",
       " 'SHOWER_HEADS',\n",
       " 'SKIN_REPELLENTS',\n",
       " 'SOAP_HOLDERS',\n",
       " 'SOFAS',\n",
       " 'SOUND_CARDS',\n",
       " 'SOUVENIRS',\n",
       " 'SPICES',\n",
       " 'STATUES',\n",
       " 'STEPPERS',\n",
       " 'STIMULATING_PILLS_AND_CAPSULES',\n",
       " 'STYLING_CHAIRS',\n",
       " 'SUPPLEMENTS',\n",
       " 'SURVEILLANCE_CAMERAS',\n",
       " 'SWEATERS_AND_CARDIGANS',\n",
       " 'SWIMMING_NOSE_CLIPS',\n",
       " 'TABLEWARE_SETS',\n",
       " 'TABLE_CLOCKS',\n",
       " 'TABLE_TENNIS_RACKETS',\n",
       " 'TACTICAL_BAGS_AND_BACKPACKS',\n",
       " 'TACTICAL_VESTS',\n",
       " 'TENNIS_BAGS',\n",
       " 'THERMAL_REFRIGERATORS_AND_BAGS',\n",
       " 'THERMOSES',\n",
       " 'TOILETRY_BAGS',\n",
       " 'TOOTHBRUSH_HOLDERS',\n",
       " 'TOWEL_HOLDERS',\n",
       " 'TOY_GARAGES_AND_GAS_STATIONS',\n",
       " 'TOY_PLANES',\n",
       " 'TOY_VANITIES',\n",
       " 'TRASH_BAGS',\n",
       " 'TV_RECEIVERS_AND_DECODERS',\n",
       " 'TV_REMOTE_CONTROLS',\n",
       " 'TV_SMPS',\n",
       " 'T_SHIRTS',\n",
       " 'UNIVERSAL_REMOTE_CONTROLS',\n",
       " 'VASES',\n",
       " 'VEGETABLES_AND_FRUITS',\n",
       " 'VEHICLE_CLUTCH_CABLES',\n",
       " 'VIBRATORS',\n",
       " 'VIDEO_CAPTURE_DEVICES',\n",
       " 'VIDEO_CASSETTES',\n",
       " 'VINYL_ROLLS',\n",
       " 'VOLLEYBALL_BALLS',\n",
       " 'WALL_ANCHOR_PLUGS',\n",
       " 'WASTE_BASKETS',\n",
       " 'WELDING_BLOWTORCHES',\n",
       " 'WHEELBARROWS',\n",
       " 'WHEEL_STUDS',\n",
       " 'WIRELESS_ANTENNAS']"
      ]
     },
     "execution_count": 11,
     "metadata": {},
     "output_type": "execute_result"
    }
   ],
   "source": [
    "categorias_para_mejorar(CM,categories, threshold=0.8)"
   ]
  },
  {
   "cell_type": "code",
   "execution_count": 12,
   "metadata": {},
   "outputs": [
    {
     "name": "stdout",
     "output_type": "stream",
     "text": [
      "Hay  1293  componentes.\n",
      "Hay  167  componentes complicadas\n"
     ]
    },
    {
     "data": {
      "text/plain": [
       "[['ACTION_CAMERA_MOUNTS', 'CAMERA_STRAPS', 'DOG_LEASHES'],\n",
       " ['ACTION_FIGURES', 'BEACH_PADDLES', 'PADDLE_TENNIS_RACKETS'],\n",
       " ['AFTERSHAVES', 'MAKEUP_REMOVERS'],\n",
       " ['AIRGUN_PELLETS', 'PAINTBALLS'],\n",
       " ['AIR_FRESHENERS',\n",
       "  'CAR_AIR_FRESHENERS',\n",
       "  'DEHUMIDIFIERS',\n",
       "  'ESSENTIAL_OILS',\n",
       "  'FABRIC_SOFTENERS',\n",
       "  'OIL_DIFFUSERS',\n",
       "  'PORTABLE_EVAPORATIVE_AIR_COOLERS',\n",
       "  'SOLDERING_IRONS',\n",
       "  'WELDING_BLOWTORCHES'],\n",
       " ['ALARMS_AND_SENSORS', 'DOORBELLS'],\n",
       " ['ALARM_CLOCKS', 'TABLE_CLOCKS'],\n",
       " ['ALTERNATORS', 'ALTERNATOR_PULLEYS'],\n",
       " ['ANALOG_CAMERAS',\n",
       "  'CAMERA_FLASHES',\n",
       "  'ELECTRICAL_TIMERS',\n",
       "  'ELECTRICITY_METERS',\n",
       "  'MULTIMETERS',\n",
       "  'TOILET_PAPER_HOLDERS',\n",
       "  'TOWEL_HOLDERS',\n",
       "  'VARIABLE_FREQUENCY_DRIVES',\n",
       "  'WATER_FLOW_SENSORS'],\n",
       " ['ANTIQUE_CHAIRS',\n",
       "  'DINING_CHAIRS',\n",
       "  'DINING_SETS',\n",
       "  'DINING_TABLES',\n",
       "  'LIVING_ROOM_SETS',\n",
       "  'OFFICE_CHAIRS',\n",
       "  'SOFAS',\n",
       "  'STYLING_CHAIRS'],\n",
       " ['ANTIQUE_TAPE_RECORDERS',\n",
       "  'DIGITAL_VOICE_RECORDERS',\n",
       "  'DVR_RECORDERS',\n",
       "  'SURVEILLANCE_CAMERAS',\n",
       "  'VIDEO_CAPTURE_DEVICES',\n",
       "  'VIDEO_CASSETTES'],\n",
       " ['ANTIQUE_TOY_CARS', 'TOY_TRAINS'],\n",
       " ['ANTI_THEFT_STUDS',\n",
       "  'AUTOMOTIVE_BUMPER_GRILLES',\n",
       "  'ENGINE_CYLINDER_HEAD_BOLTS',\n",
       "  'SCREWS',\n",
       "  'VEHICLE_BRAKE_HYDRAULIC_HOSES',\n",
       "  'WHEEL_STUDS'],\n",
       " ['APERITIFS',\n",
       "  'BEERS',\n",
       "  'CACHACAS',\n",
       "  'COLLECTIBLE_CANS_BOTTLES_AND_SODA_SIPHONS',\n",
       "  'LIQUORS',\n",
       "  'PISCOS',\n",
       "  'PUPPETS',\n",
       "  'READY_TO_DRINK_COCKTAILS'],\n",
       " ['ARTIFICIAL_FLOWERS',\n",
       "  'ARTIFICIAL_PLANTS',\n",
       "  'DECORATIVE_BASKETS',\n",
       "  'LAUNDRY_BASKETS'],\n",
       " ['AUDIO_AND_VIDEO_CABLES_AND_ADAPTERS',\n",
       "  'CAR_AV_RECEIVERS',\n",
       "  'WIRELESS_FM_TRANSMITTERS'],\n",
       " ['AUDIO_AND_VIDEO_CONNECTORS', 'TELEPHONE_CABLES'],\n",
       " ['AUDIO_INTERFACES', 'SOUND_CARDS'],\n",
       " ['AUTOMOBILE_FUEL_PUMPS', 'INJECTION_PUMPS', 'STARTERS'],\n",
       " ['AUTOMOTIVE_AIR_FILTER_BOXES',\n",
       "  'CAR_AC_HOSE_ASSEMBLIES',\n",
       "  'ENGINE_INTAKE_HOSES',\n",
       "  'INTERCOOLER_HOSES',\n",
       "  'POWER_STEERING_HOSES',\n",
       "  'RACKS_AND_PINIONS'],\n",
       " ['AUTOMOTIVE_BATTERIES',\n",
       "  'AUTOMOTIVE_SHOCK_ABSORBERS',\n",
       "  'AUTOMOTIVE_SHOCK_ABSORBER_BUMP_STOPS',\n",
       "  'CAMERA_BATTERY_GRIPS',\n",
       "  'CAR_HOODS',\n",
       "  'HOOD_HINGES',\n",
       "  'MOTORCYCLE_BATTERIES',\n",
       "  'SHOCK_MOUNT_INSOLATORS',\n",
       "  'UPS_BATTERIES'],\n",
       " ['AUTOMOTIVE_CELLPHONE_AND_GPS_MOUNTS', 'CAMERA_TRIPODS'],\n",
       " ['AUTOMOTIVE_CLUTCH_MASTER_CYLINDERS',\n",
       "  'BRAKE_MASTER_CYLINDERS',\n",
       "  'CLUTCH_SLAVE_CYLINDERS'],\n",
       " ['AUTOMOTIVE_CV_JOINT_BOOTS',\n",
       "  'AUTOMOTIVE_MANUAL_TRANSMISSION_SHIFT_LEVERS',\n",
       "  'TORSION_BARS',\n",
       "  'VEHICLE_CLUTCH_CABLES',\n",
       "  'VEHICLE_CV_AXLES'],\n",
       " ['AUTOMOTIVE_DOORS', 'CAR_DOOR_HINGES'],\n",
       " ['AUTOMOTIVE_FRONT_BUMPERS', 'BUMPER_IMPACT_ABSORBERS'],\n",
       " ['AUTOMOTIVE_MIRROR_COVERS', 'AUTOMOTIVE_SIDE_VIEW_MIRROR_GLASSES'],\n",
       " ['AUTOMOTIVE_THROTTLE_BODIES',\n",
       "  'AUTOMOTIVE_TRANSMISSION_GEARS',\n",
       "  'CLASSIC_CARS',\n",
       "  'DIFFERENTIALS'],\n",
       " ['AUTOMOTIVE_TIMING_BELTS', 'DISTRIBUTION_KITS'],\n",
       " ['AUTOMOTIVE_TIRES', 'MOTORCYCLE_TIRES'],\n",
       " ['AUTOMOTIVE_WEATHERSTRIPS', 'CAR_FRONT_MASKS'],\n",
       " ['BABIES_FORMULA', 'MILK'],\n",
       " ['BABY_BLANKETS', 'CRIB_BEDDING_SETS'],\n",
       " ['BABY_BODYSUITS', 'JUMPSUITS_AND_OVERALLS'],\n",
       " ['BABY_GYMS', 'CASH_REGISTERS', 'FOLDERS_AND_EXPANDING_FILES'],\n",
       " ['BABY_PACIFIERS', 'BABY_PACIFIER_CLIPS'],\n",
       " ['BABY_WALKERS', 'PUSH_AND_RIDING_TOYS'],\n",
       " ['BATHROOM_SINKS', 'CHIP_AND_DIP_SERVERS'],\n",
       " ['BEACH_BALLS', 'PILATES_BALLS'],\n",
       " ['BEER_DISPENSERS', 'BEER_FAUCETS'],\n",
       " ['BICYCLE_BAGS', 'DIAPER_BAGS', 'HANDBAGS', 'TENNIS_BAGS'],\n",
       " ['BINDING_SPINES', 'KITCHEN_POTS'],\n",
       " ['BIRD_DRINKERS_AND_FEEDERS', 'ROOSTERS_AND_HENS'],\n",
       " ['BLANKETS', 'COMFORTERS'],\n",
       " ['BLANK_DISCS', 'DISC_PACKAGINGS', 'PENDRIVES', 'POLY_MAILERS'],\n",
       " ['BLENDERS', 'INDUSTRIAL_BLENDERS'],\n",
       " ['BODY_SKIN_CARE_PRODUCTS', 'DEODORANTS', 'PERFUMES'],\n",
       " ['BOMBOS', 'DRUM_PEDALS'],\n",
       " ['BOOKS', 'MUSIC_ALBUMS', 'OFFICE_SOFTWARE'],\n",
       " ['BOXING_HEADGEARS',\n",
       "  'MARTIAL_ARTS_AND_BOXING_GLOVES',\n",
       "  'MARTIAL_ARTS_BELTS',\n",
       "  'MARTIAL_ARTS_CHEST_GUARDS',\n",
       "  'SPORT_AND_MEDICAL_BANDAGES'],\n",
       " ['BRACELETS_AND_ANKLE_BRACES', 'WATCH_BANDS'],\n",
       " ['BRAKE_LIGHT_SWITCHES',\n",
       "  'CAR_WINDOW_SWITCHES',\n",
       "  'ENGINE_COOLING_FAN_SWITCHES'],\n",
       " ['BRICKS', 'GLASS_BLOCKS'],\n",
       " ['BRUSH_CUTTERS', 'INDUSTRIAL_PULLEYS', 'SAFETY_HARNESSES'],\n",
       " ['BUTT_PLUGS', 'PERSONAL_LUBRICANTS_AND_GELS'],\n",
       " ['CAKES', 'CAKE_TOPPERS', 'CANDIES', 'PANETTONES', 'SOUVENIRS'],\n",
       " ['CAKE_STANDS',\n",
       "  'CHRISTMAS_TREE_ORNAMENTS',\n",
       "  'CUPCAKE_STANDS',\n",
       "  'FLATWARE_ORGANIZERS',\n",
       "  'FLATWARE_SETS'],\n",
       " ['CAMERA_BATTERIES', 'CAMERA_CHARGERS'],\n",
       " ['CAMERA_CASES', 'CELLPHONE_COVERS'],\n",
       " ['CAMERA_LENSES', 'CAMERA_PHOTOMETERS', 'LENS_HOODS'],\n",
       " ['CAMPING_CHAIRS', 'SUNBATHING_CHAIRS'],\n",
       " ['CAMPING_STOVES', 'COOKTOPS', 'HOOKAHS'],\n",
       " ['CANDLES', 'CANDLE_HOLDERS'],\n",
       " ['CARABINERS', 'KEY_RACKS'],\n",
       " ['CARDS_AND_INVITATIONS',\n",
       "  'COMMERCIAL_AND_EVENT_BAGS',\n",
       "  'COOKIES_CUTTERS',\n",
       "  'DISPOSABLE_PARTY_KITS',\n",
       "  'PENNANTS',\n",
       "  'TRASH_BAGS'],\n",
       " ['CAR_AC_DASHBOARD_VENTS', 'FOG_LIGHTS'],\n",
       " ['CAR_AC_EXPANSION_VALVES', 'ENGINE_VALVES', 'MOTORCYCLE_CARBURETORS'],\n",
       " ['CAR_CENTER_CONSOLES', 'ROOF_RACKS', 'STEERING_COLUMNS'],\n",
       " ['CAR_ENGINE_CAMSHAFT_SENSORS', 'ENGINE_CRANKSHAFT_POSITION_SENSORS'],\n",
       " ['CAR_LIGHT_BULBS', 'PROJECTOR_LAMPS'],\n",
       " ['CEILING_LIGHTS', 'LAMP_HOLDERS'],\n",
       " ['CELLPHONE_TABLET_AND_GPS_SCREEN_PROTECTORS', 'LCD_DISPLAYS'],\n",
       " ['CELLPHONE_USB_AND_AUXILIARY_ADAPTERS',\n",
       "  'DATA_CABLES_AND_ADAPTERS',\n",
       "  'HEADPHONES'],\n",
       " ['CEREAL_BARS', 'DRIED_FRUITS', 'LABEL_MAKERS'],\n",
       " ['CHAMPAGNES', 'SPARKLING_WINES'],\n",
       " ['CHARCOAL_GRILLS', 'ELECTRIC_GRILLS'],\n",
       " ['CLEANING_CLOTHS', 'KITCHEN_TOWELS'],\n",
       " ['CLEANING_SPONGES', 'GARDEN_BENCHES'],\n",
       " ['CLOTHES_HANGERS', 'COAT_RACKS'],\n",
       " ['COIN_PURSES', 'WALLETS'],\n",
       " ['COLD_ROOMS', 'MERCHANDISER_REFRIGERATORS', 'REFRIGERATORS'],\n",
       " ['COMBUSTION_CHAINSAWS', 'ELECTRIC_CHAINSAWS'],\n",
       " ['COMPOSTERS',\n",
       "  'HAIR_MOLDING_AND_STYLING',\n",
       "  'HAIR_SHAMPOOS_AND_CONDITIONERS',\n",
       "  'HAIR_TREATMENTS'],\n",
       " ['COMPRESSION_SLEEVES', 'KNEE_BRACES_SUPPORTS'],\n",
       " ['COMPUTER_MOTHERBOARDS', 'TELEVISION_MAIN_PLATE_REPLACEMENTS', 'TV_SMPS'],\n",
       " ['CONCEALERS', 'NAIL_POLISH', 'TOY_VANITIES'],\n",
       " ['CONNECTING_COUPLERS',\n",
       "  'CONSTRUCTION_BEAMS',\n",
       "  'CONSTRUCTION_PROFILES',\n",
       "  'PIPES_AND_TUBES',\n",
       "  'WALL_ANCHOR_PLUGS'],\n",
       " ['CONTINUOUS_INK_SYSTEMS', 'INK_CARTRIDGES', 'LASER_PRINTER_DRUMS'],\n",
       " ['CONTINUOUS_LIGHTING', 'LED_STAGE_LIGHTS', 'MIRROR_BALLS'],\n",
       " ['COOKIES', 'SOLID_SWEET_PASTES'],\n",
       " ['CUSHIONS', 'CUSHION_COVERS'],\n",
       " ['DECORATIVE_VASES', 'PLANT_POTS_AND_PLANTERS', 'STATUES', 'VASES'],\n",
       " ['DILDOS', 'VIBRATORS'],\n",
       " ['DISHES_RACKS',\n",
       "  'DRINK_PITCHERS',\n",
       "  'KITCHEN_BOWLS',\n",
       "  'KITCHEN_CABINET_ORGANIZERS'],\n",
       " ['DISPOSABLE_GLOVES',\n",
       "  'GAUZES',\n",
       "  'HEARING_PROTECTORS',\n",
       "  'HYDROPHILIC_COTTON',\n",
       "  'SCREWDRIVERS_SETS',\n",
       "  'SWIMMING_EARPLUGS',\n",
       "  'SWIMMING_NOSE_CLIPS',\n",
       "  'VOLTAGE_DETECTORS'],\n",
       " ['DIVING_MASKS', 'NECK_GAITERS_MASKS_AND_BALACLAVAS'],\n",
       " ['DJ_TURNTABLES', 'TURNTABLES'],\n",
       " ['DOOR_AND_WINDOW_LOCKS', 'ELECTRONIC_LOCKS'],\n",
       " ['DRILLS_SCREWDRIVERS', 'ELECTRIC_SCREWDRIVERS'],\n",
       " ['DRUMSTICKS_MALLETS_AND_BRUSHES', 'ELECTRONIC_DRUMS'],\n",
       " ['DULCE_DE_LECHE',\n",
       "  'HAIR_STRAIGHTENING_BRUSHES',\n",
       "  'IRONS',\n",
       "  'PASTAS',\n",
       "  'TOOTHBRUSH_HOLDERS'],\n",
       " ['ELECTRIC_DEMOLITION_HAMMERS', 'HAMMER_DRILLS'],\n",
       " ['ELECTRIC_LAWN_MOWERS',\n",
       "  'LAWN_MOWER_BLADES',\n",
       "  'STATIONARY_ENGINES',\n",
       "  'TILLERS'],\n",
       " ['ELECTRIC_SAWS', 'INDUSTRIAL_SAWS'],\n",
       " ['ELECTRIC_SHOWER_HEADS', 'EROTIC_ANAL_AND_VAGINAL_DOUCHES', 'SHOWER_HEADS'],\n",
       " ['ELECTRONIC_MUSCLE_STIMULATORS', 'RADIO_FREQUENCY_MACHINES'],\n",
       " ['ELECTRONIC_SWITCHES', 'WALL_LIGHT_SWITCHES'],\n",
       " ['ELLIPTICAL_MACHINES', 'STEPPERS'],\n",
       " ['ENERGETIC_STONES', 'HABERDASHERY_BEADS', 'STONE_FLOORINGS'],\n",
       " ['ENGINE_OILS', 'MOTORCYCLE_OIL_PUMPS'],\n",
       " ['ENGINE_PISTONS', 'MOTORCYCLE_TRANSMISSION_KITS'],\n",
       " ['EROTIC_CREAMS', 'PENIS_RINGS', 'PENIS_SLEEVES', 'SEX_TOY_KITS'],\n",
       " ['EXERCISE_MATS', 'YOGA_MATS'],\n",
       " ['FISHING_VESTS', 'LIFE_JACKETS'],\n",
       " ['FRAME_POOLS', 'INFLATABLE_POOLS'],\n",
       " ['FREEZER_BAGS',\n",
       "  'JEWELRY_DISPLAYS',\n",
       "  'RACQUETS',\n",
       "  'TABLE_TENNIS_RACKETS',\n",
       "  'TABLE_TENNIS_TABLES'],\n",
       " ['FUEL_INJECTION_RAILS', 'FUEL_INJECTORS'],\n",
       " ['GARDENING_AND_AGRICULTURE_SEEDS', 'SODS'],\n",
       " ['GEL_NAIL_KITS', 'NAIL_ART_BRUSHES', 'NAIL_DRYERS'],\n",
       " ['GIFT_CARDS', 'VIDEO_GAME_PREPAID_CARDS'],\n",
       " ['GLOW_PLUG_CONTROLLERS', 'IGNITION_CONTROL_MODULES'],\n",
       " ['GOLF_BAGS', 'GOLF_CLUBS_SETS'],\n",
       " ['GYM_BARS', 'WORKOUT_BENCHES'],\n",
       " ['HAIR_CLIPPERS', 'SHAVING_MACHINES'],\n",
       " ['HANDBALL_BALLS', 'VOLLEYBALL_BALLS'],\n",
       " ['HAND_TRUCKS', 'MANUAL_HOISTS'],\n",
       " ['HEATING_PADS', 'PILLOWS'],\n",
       " ['HOME_THEATERS', 'SPEAKERS'],\n",
       " ['HUMIDIFIERS_AND_VAPORIZERS', 'TOBACCO_PIPES'],\n",
       " ['ICE_CREAM_MACHINES', 'ICE_MAKERS'],\n",
       " ['INDUSTRIAL_COOKING_OVENS', 'OVENS'],\n",
       " ['IRRIGATION_SPRINKLERS', 'WATERING_CANS'],\n",
       " ['IRRIGATION_VALVES', 'VACUUM_TUBES'],\n",
       " ['KEYBOARD_AND_MOUSE_KITS',\n",
       "  'TV_ANTENNAS',\n",
       "  'TV_RECEIVERS_AND_DECODERS',\n",
       "  'TV_REMOTE_CONTROLS',\n",
       "  'UNIVERSAL_CAR_REMOTES',\n",
       "  'UNIVERSAL_REMOTE_CONTROLS'],\n",
       " ['KIDS_PLAYHOUSES', 'KIDS_TENTS'],\n",
       " ['KITCHEN_TONGS', 'STRAWS'],\n",
       " ['LATEX_ENAMEL_AND_ACRYLIC_PAINTS',\n",
       "  'POOL_PAINTS',\n",
       "  'SCHOOL_AND_OFFICE_GLUES',\n",
       "  'SPICES'],\n",
       " ['LEGGINGS', 'PANTS'],\n",
       " ['MANUAL_TROLLEYS', 'OXYGEN_TANKS', 'VACUUM_PUMPS', 'WHEELBARROWS'],\n",
       " ['MEAT_GRINDERS', 'VEGETABLES_AND_FRUITS_CHOPPERS'],\n",
       " ['MICROSCOPES', 'MONOCULARS'],\n",
       " ['MIXERS', 'YOGURT_MAKERS'],\n",
       " ['MODEMS', 'ROUTERS'],\n",
       " ['MONEY_BOXES', 'SAFES', 'THERMOSES'],\n",
       " ['MOTORCYCLE_CASES', 'MOTORCYCLE_SIDE_CASES'],\n",
       " ['MOTORCYCLE_CHEST_PROTECTORS', 'VESTS'],\n",
       " ['MOTORCYCLE_CRASH_BARS', 'MOTORCYCLE_EXHAUSTS'],\n",
       " ['MOTORCYCLE_FAIRINGS', 'MOTORCYCLE_FENDERS'],\n",
       " ['MOTORCYCLE_GRAB_BARS', 'MOTORCYCLE_SEATS'],\n",
       " ['NETWORK_CARDS', 'WIRELESS_ANTENNAS'],\n",
       " ['ORTHOPEDIC_WALKER_BOOTS', 'ORTHOPEDIC_WRIST_BRACES'],\n",
       " ['OXIMETERS', 'SPHYGMOMANOMETERS'],\n",
       " ['PIPE_CUTTERS', 'ROOF_PANELS'],\n",
       " ['PLAYING_CARDS', 'TRADING_CARD_GAMES'],\n",
       " ['POOL_LIGHTS', 'POOL_WATERFALLS'],\n",
       " ['POWER_STEERING_FLUID_RESERVOIRS', 'WINDSHIELD_WASHER_FLUID_RESERVOIRS'],\n",
       " ['PRESSURE_GAUGES', 'WATER_HEATERS'],\n",
       " ['RADIO_BASE_STATIONS', 'WALKIE_TALKIES', 'WALKIE_TALKIE_BATTERIES'],\n",
       " ['ROLL_BARS', 'SUSPENSION_BALL_JOINTS'],\n",
       " ['RUM', 'WHISKEYS'],\n",
       " ['SCREEN_PRINTING_KITS', 'SCREEN_PRINTING_MACHINES'],\n",
       " ['SELF_TANNERS', 'SUNSCREENS'],\n",
       " ['SERVING_AND_HOME_TRAYS', 'TABLEWARE_SETS'],\n",
       " ['SOAP_AND_DETERGENT_DISPENSERS', 'SOAP_HOLDERS'],\n",
       " ['SUITS', 'SWEATERS_AND_CARDIGANS'],\n",
       " ['TACTICAL_BAGS_AND_BACKPACKS', 'TACTICAL_VESTS'],\n",
       " ['WRENCHES', 'WRENCH_SETS']]"
      ]
     },
     "execution_count": 12,
     "metadata": {},
     "output_type": "execute_result"
    }
   ],
   "source": [
    "componentes_complicadas = confusiones_principales(CM,categories, threshold = 0.1)\n",
    "componentes_complicadas"
   ]
  },
  {
   "cell_type": "markdown",
   "metadata": {},
   "source": [
    "# Pequeño experimento  para ver como varía el score al mirar el 30% de val"
   ]
  },
  {
   "cell_type": "code",
   "execution_count": 13,
   "metadata": {},
   "outputs": [
    {
     "name": "stdout",
     "output_type": "stream",
     "text": [
      "score:  0.8847224735054979\n",
      "score:  0.8860426511132183\n",
      "score:  0.8881233314625434\n",
      "score:  0.8818649611445452\n",
      "score:  0.8805947485616139\n",
      "score:  0.8827867207534649\n",
      "score:  0.8924734404816727\n",
      "score:  0.8916701070900045\n",
      "score:  0.8850331775160967\n",
      "score:  0.8889415814364929\n",
      "score:  0.8885417195151634\n",
      "score:  0.8918364979272584\n",
      "score:  0.889058829565412\n",
      "score:  0.8923461079292518\n",
      "score:  0.8799306366016727\n",
      "score:  0.8838946674831127\n",
      "score:  0.8884432001445541\n",
      "score:  0.8896127599430754\n",
      "score:  0.8848145872023151\n",
      "score:  0.8862081927126527\n",
      "score:  0.8838939029278858\n",
      "score:  0.8803165817619425\n",
      "score:  0.8842597320236532\n",
      "score:  0.8874650771399375\n",
      "score:  0.8885771450789351\n",
      "score:  0.8929524504936402\n",
      "score:  0.8869331002936438\n",
      "score:  0.8879312015877099\n",
      "score:  0.8882427739324336\n",
      "score:  0.8882047061954639\n"
     ]
    }
   ],
   "source": [
    "for i in range(30):\n",
    "    d_pub = X_val_reliable.sample(int(0.3*len(X_val_reliable)))\n",
    "    print(\"score: \", balanced_accuracy_score(d_pub[\"category\"],d_pub[\"predicted_category\"]),flush=True)"
   ]
  },
  {
   "cell_type": "markdown",
   "metadata": {},
   "source": [
    "# Predicciones de test (lo ideal es entrenar de nuevo usando todo train)"
   ]
  },
  {
   "cell_type": "code",
   "execution_count": 14,
   "metadata": {},
   "outputs": [
    {
     "data": {
      "application/vnd.jupyter.widget-view+json": {
       "model_id": "fddf349c37ae465f9a526583ee2b0969",
       "version_major": 2,
       "version_minor": 0
      },
      "text/plain": [
       "HBox(children=(IntProgress(value=0, max=246955), HTML(value='')))"
      ]
     },
     "metadata": {},
     "output_type": "display_data"
    },
    {
     "name": "stdout",
     "output_type": "stream",
     "text": [
      "\n"
     ]
    },
    {
     "data": {
      "text/html": [
       "<div>\n",
       "<style scoped>\n",
       "    .dataframe tbody tr th:only-of-type {\n",
       "        vertical-align: middle;\n",
       "    }\n",
       "\n",
       "    .dataframe tbody tr th {\n",
       "        vertical-align: top;\n",
       "    }\n",
       "\n",
       "    .dataframe thead th {\n",
       "        text-align: right;\n",
       "    }\n",
       "</style>\n",
       "<table border=\"1\" class=\"dataframe\">\n",
       "  <thead>\n",
       "    <tr style=\"text-align: right;\">\n",
       "      <th></th>\n",
       "      <th>id</th>\n",
       "      <th>title</th>\n",
       "      <th>language</th>\n",
       "      <th>category</th>\n",
       "    </tr>\n",
       "  </thead>\n",
       "  <tbody>\n",
       "    <tr>\n",
       "      <th>0</th>\n",
       "      <td>0</td>\n",
       "      <td>[kit, maternidade, bolsa, mala, baby, bebe, vi...</td>\n",
       "      <td>portuguese</td>\n",
       "      <td>DIAPER_BAGS</td>\n",
       "    </tr>\n",
       "    <tr>\n",
       "      <th>1</th>\n",
       "      <td>1</td>\n",
       "      <td>[trocador, de, fraldas, fisher, price, feminin...</td>\n",
       "      <td>portuguese</td>\n",
       "      <td>BABY_CHANGING_PADS</td>\n",
       "    </tr>\n",
       "    <tr>\n",
       "      <th>2</th>\n",
       "      <td>2</td>\n",
       "      <td>[motor, ventoinha, fiat, idea, palio, 1, 8, a,...</td>\n",
       "      <td>portuguese</td>\n",
       "      <td>ENGINE_COOLING_FAN_MOTORS</td>\n",
       "    </tr>\n",
       "    <tr>\n",
       "      <th>3</th>\n",
       "      <td>3</td>\n",
       "      <td>[amortecedor, mola, batente, d, dir, new, civi...</td>\n",
       "      <td>portuguese</td>\n",
       "      <td>AUTOMOTIVE_SHOCK_ABSORBER_BUMP_STOPS</td>\n",
       "    </tr>\n",
       "    <tr>\n",
       "      <th>4</th>\n",
       "      <td>4</td>\n",
       "      <td>[cadeirinha, de, carro, bebe, princesa, prince...</td>\n",
       "      <td>portuguese</td>\n",
       "      <td>BABY_CAR_SEATS</td>\n",
       "    </tr>\n",
       "    <tr>\n",
       "      <th>5</th>\n",
       "      <td>5</td>\n",
       "      <td>[cabo, freio, mao, tras, direito, vw, up, cod,...</td>\n",
       "      <td>portuguese</td>\n",
       "      <td>HAND_BRAKE_CABLES</td>\n",
       "    </tr>\n",
       "    <tr>\n",
       "      <th>6</th>\n",
       "      <td>6</td>\n",
       "      <td>[mini, pc, dell, optiplex, fx160, atom, 2gb, r...</td>\n",
       "      <td>portuguese</td>\n",
       "      <td>MINI_PCS</td>\n",
       "    </tr>\n",
       "    <tr>\n",
       "      <th>7</th>\n",
       "      <td>7</td>\n",
       "      <td>[kit, bi, xenon, lampada, h4, 8000k]</td>\n",
       "      <td>portuguese</td>\n",
       "      <td>XENON_KITS</td>\n",
       "    </tr>\n",
       "    <tr>\n",
       "      <th>8</th>\n",
       "      <td>8</td>\n",
       "      <td>[protetor, pe, botinha, kickboxing, karate, ta...</td>\n",
       "      <td>portuguese</td>\n",
       "      <td>MARTIAL_ARTS_FOOT_GUARDS</td>\n",
       "    </tr>\n",
       "    <tr>\n",
       "      <th>9</th>\n",
       "      <td>9</td>\n",
       "      <td>[disco, rigido, externo, western, digital, ele...</td>\n",
       "      <td>spanish</td>\n",
       "      <td>HARD_DRIVES_AND_SSDS</td>\n",
       "    </tr>\n",
       "    <tr>\n",
       "      <th>10</th>\n",
       "      <td>10</td>\n",
       "      <td>[picadora, de, carne, fineschi, legitima, 32]</td>\n",
       "      <td>spanish</td>\n",
       "      <td>MEAT_GRINDERS</td>\n",
       "    </tr>\n",
       "    <tr>\n",
       "      <th>11</th>\n",
       "      <td>11</td>\n",
       "      <td>[saida, maternidade, 1, manta, 2vestidos, 2cal...</td>\n",
       "      <td>portuguese</td>\n",
       "      <td>BABY_CLOTHING_SETS</td>\n",
       "    </tr>\n",
       "    <tr>\n",
       "      <th>12</th>\n",
       "      <td>12</td>\n",
       "      <td>[jogo, vela, ignicao, ngk, mercedes, benz, 08,...</td>\n",
       "      <td>portuguese</td>\n",
       "      <td>SPARK_PLUGS</td>\n",
       "    </tr>\n",
       "    <tr>\n",
       "      <th>13</th>\n",
       "      <td>13</td>\n",
       "      <td>[modulo, de, injecao, fox, flex, 1, 6, 032, 90...</td>\n",
       "      <td>portuguese</td>\n",
       "      <td>ENGINE_CONTROL_MODULES</td>\n",
       "    </tr>\n",
       "    <tr>\n",
       "      <th>14</th>\n",
       "      <td>14</td>\n",
       "      <td>[set, barreta, automotor, bremen, x3, unid, 67...</td>\n",
       "      <td>spanish</td>\n",
       "      <td>CROWBARS</td>\n",
       "    </tr>\n",
       "    <tr>\n",
       "      <th>15</th>\n",
       "      <td>15</td>\n",
       "      <td>[miel, organica, x250gr, sin, tacc]</td>\n",
       "      <td>spanish</td>\n",
       "      <td>HONEY</td>\n",
       "    </tr>\n",
       "    <tr>\n",
       "      <th>16</th>\n",
       "      <td>16</td>\n",
       "      <td>[sax, tenor, coon, 37m]</td>\n",
       "      <td>portuguese</td>\n",
       "      <td>SAXOPHONES</td>\n",
       "    </tr>\n",
       "    <tr>\n",
       "      <th>17</th>\n",
       "      <td>17</td>\n",
       "      <td>[sapato, seguranca, vaqueta, bidensidade, com,...</td>\n",
       "      <td>portuguese</td>\n",
       "      <td>SAFETY_FOOTWEAR</td>\n",
       "    </tr>\n",
       "    <tr>\n",
       "      <th>18</th>\n",
       "      <td>18</td>\n",
       "      <td>[200, adaptador, para, cartao, de, memoria, mi...</td>\n",
       "      <td>portuguese</td>\n",
       "      <td>MEMORY_CARD_READERS</td>\n",
       "    </tr>\n",
       "    <tr>\n",
       "      <th>19</th>\n",
       "      <td>19</td>\n",
       "      <td>[bandeja, giradiscos, omnitronic, bd1320]</td>\n",
       "      <td>spanish</td>\n",
       "      <td>DJ_TURNTABLES</td>\n",
       "    </tr>\n",
       "    <tr>\n",
       "      <th>20</th>\n",
       "      <td>20</td>\n",
       "      <td>[tonfa, militar]</td>\n",
       "      <td>portuguese</td>\n",
       "      <td>TONFAS</td>\n",
       "    </tr>\n",
       "    <tr>\n",
       "      <th>21</th>\n",
       "      <td>21</td>\n",
       "      <td>[kit, almohadones, y, funda, 2, respaldos, 2, ...</td>\n",
       "      <td>spanish</td>\n",
       "      <td>CUSHIONS</td>\n",
       "    </tr>\n",
       "    <tr>\n",
       "      <th>22</th>\n",
       "      <td>22</td>\n",
       "      <td>[parlante, portatil, hp, mini, roar, bluetooth...</td>\n",
       "      <td>spanish</td>\n",
       "      <td>SPEAKERS</td>\n",
       "    </tr>\n",
       "    <tr>\n",
       "      <th>23</th>\n",
       "      <td>23</td>\n",
       "      <td>[tubos, pelotas, slazenger, wimbledon, promo, ...</td>\n",
       "      <td>spanish</td>\n",
       "      <td>TENNIS_BALLS</td>\n",
       "    </tr>\n",
       "    <tr>\n",
       "      <th>24</th>\n",
       "      <td>24</td>\n",
       "      <td>[sapata, de, freio, jg, escort, zetec, 1, 8, 1...</td>\n",
       "      <td>portuguese</td>\n",
       "      <td>DRUM_BRAKE_SHOES</td>\n",
       "    </tr>\n",
       "    <tr>\n",
       "      <th>25</th>\n",
       "      <td>25</td>\n",
       "      <td>[ukelele, electroacustico, baritono, alpujarra...</td>\n",
       "      <td>spanish</td>\n",
       "      <td>UKULELES</td>\n",
       "    </tr>\n",
       "    <tr>\n",
       "      <th>26</th>\n",
       "      <td>26</td>\n",
       "      <td>[aire, split, frio, calor, 5332f, 6200w, fedde...</td>\n",
       "      <td>spanish</td>\n",
       "      <td>AIR_CONDITIONERS</td>\n",
       "    </tr>\n",
       "    <tr>\n",
       "      <th>27</th>\n",
       "      <td>27</td>\n",
       "      <td>[piedritas, sanitarias, stone, cat, x, 24kg, a...</td>\n",
       "      <td>spanish</td>\n",
       "      <td>CATS_LITTER</td>\n",
       "    </tr>\n",
       "    <tr>\n",
       "      <th>28</th>\n",
       "      <td>28</td>\n",
       "      <td>[arte, de, bordar, n, 5, alfabetos, em, ponto,...</td>\n",
       "      <td>portuguese</td>\n",
       "      <td>MAGAZINES</td>\n",
       "    </tr>\n",
       "    <tr>\n",
       "      <th>29</th>\n",
       "      <td>29</td>\n",
       "      <td>[mascara, fotosensible, careta, soldar, ploteo...</td>\n",
       "      <td>spanish</td>\n",
       "      <td>WELDING_MASKS</td>\n",
       "    </tr>\n",
       "    <tr>\n",
       "      <th>30</th>\n",
       "      <td>30</td>\n",
       "      <td>[cardone, 19, 2894, refabricados, de, importac...</td>\n",
       "      <td>spanish</td>\n",
       "      <td>CAR_CARBURETORS</td>\n",
       "    </tr>\n",
       "    <tr>\n",
       "      <th>31</th>\n",
       "      <td>31</td>\n",
       "      <td>[termotanque, electrico, 106, lts, ecotermo, c...</td>\n",
       "      <td>spanish</td>\n",
       "      <td>STORAGE_WATER_HEATERS</td>\n",
       "    </tr>\n",
       "    <tr>\n",
       "      <th>32</th>\n",
       "      <td>32</td>\n",
       "      <td>[avon, alhambra, piedra, pomez, y, desodorante]</td>\n",
       "      <td>spanish</td>\n",
       "      <td>DEODORANTS</td>\n",
       "    </tr>\n",
       "    <tr>\n",
       "      <th>33</th>\n",
       "      <td>33</td>\n",
       "      <td>[maquina, de, bordados, janome, modelo, mc, 37...</td>\n",
       "      <td>portuguese</td>\n",
       "      <td>EMBROIDERY_MACHINES</td>\n",
       "    </tr>\n",
       "    <tr>\n",
       "      <th>34</th>\n",
       "      <td>34</td>\n",
       "      <td>[reparo, injecao, eletronica, cg150, fan, 16304]</td>\n",
       "      <td>portuguese</td>\n",
       "      <td>MOTORCYCLE_CARBURETORS</td>\n",
       "    </tr>\n",
       "    <tr>\n",
       "      <th>35</th>\n",
       "      <td>35</td>\n",
       "      <td>[valvula, solenoide, egr, vectra, e, omega, 1,...</td>\n",
       "      <td>portuguese</td>\n",
       "      <td>EGR_VALVES</td>\n",
       "    </tr>\n",
       "    <tr>\n",
       "      <th>36</th>\n",
       "      <td>36</td>\n",
       "      <td>[bloco, 8, furos, 9x19x19]</td>\n",
       "      <td>portuguese</td>\n",
       "      <td>BRICKS</td>\n",
       "    </tr>\n",
       "    <tr>\n",
       "      <th>37</th>\n",
       "      <td>37</td>\n",
       "      <td>[botoes, vidro, electrico, frelander, 1]</td>\n",
       "      <td>portuguese</td>\n",
       "      <td>CAR_WINDOW_SWITCHES</td>\n",
       "    </tr>\n",
       "    <tr>\n",
       "      <th>38</th>\n",
       "      <td>38</td>\n",
       "      <td>[tambor, pork, pie, maple, americano]</td>\n",
       "      <td>spanish</td>\n",
       "      <td>SNARE_DRUMS</td>\n",
       "    </tr>\n",
       "    <tr>\n",
       "      <th>39</th>\n",
       "      <td>39</td>\n",
       "      <td>[panchera, 30, salchichas, con, calienta, pan,...</td>\n",
       "      <td>spanish</td>\n",
       "      <td>HOT_DOG_MACHINES</td>\n",
       "    </tr>\n",
       "  </tbody>\n",
       "</table>\n",
       "</div>"
      ],
      "text/plain": [
       "    id                                              title    language  \\\n",
       "0    0  [kit, maternidade, bolsa, mala, baby, bebe, vi...  portuguese   \n",
       "1    1  [trocador, de, fraldas, fisher, price, feminin...  portuguese   \n",
       "2    2  [motor, ventoinha, fiat, idea, palio, 1, 8, a,...  portuguese   \n",
       "3    3  [amortecedor, mola, batente, d, dir, new, civi...  portuguese   \n",
       "4    4  [cadeirinha, de, carro, bebe, princesa, prince...  portuguese   \n",
       "5    5  [cabo, freio, mao, tras, direito, vw, up, cod,...  portuguese   \n",
       "6    6  [mini, pc, dell, optiplex, fx160, atom, 2gb, r...  portuguese   \n",
       "7    7               [kit, bi, xenon, lampada, h4, 8000k]  portuguese   \n",
       "8    8  [protetor, pe, botinha, kickboxing, karate, ta...  portuguese   \n",
       "9    9  [disco, rigido, externo, western, digital, ele...     spanish   \n",
       "10  10      [picadora, de, carne, fineschi, legitima, 32]     spanish   \n",
       "11  11  [saida, maternidade, 1, manta, 2vestidos, 2cal...  portuguese   \n",
       "12  12  [jogo, vela, ignicao, ngk, mercedes, benz, 08,...  portuguese   \n",
       "13  13  [modulo, de, injecao, fox, flex, 1, 6, 032, 90...  portuguese   \n",
       "14  14  [set, barreta, automotor, bremen, x3, unid, 67...     spanish   \n",
       "15  15                [miel, organica, x250gr, sin, tacc]     spanish   \n",
       "16  16                            [sax, tenor, coon, 37m]  portuguese   \n",
       "17  17  [sapato, seguranca, vaqueta, bidensidade, com,...  portuguese   \n",
       "18  18  [200, adaptador, para, cartao, de, memoria, mi...  portuguese   \n",
       "19  19          [bandeja, giradiscos, omnitronic, bd1320]     spanish   \n",
       "20  20                                   [tonfa, militar]  portuguese   \n",
       "21  21  [kit, almohadones, y, funda, 2, respaldos, 2, ...     spanish   \n",
       "22  22  [parlante, portatil, hp, mini, roar, bluetooth...     spanish   \n",
       "23  23  [tubos, pelotas, slazenger, wimbledon, promo, ...     spanish   \n",
       "24  24  [sapata, de, freio, jg, escort, zetec, 1, 8, 1...  portuguese   \n",
       "25  25  [ukelele, electroacustico, baritono, alpujarra...     spanish   \n",
       "26  26  [aire, split, frio, calor, 5332f, 6200w, fedde...     spanish   \n",
       "27  27  [piedritas, sanitarias, stone, cat, x, 24kg, a...     spanish   \n",
       "28  28  [arte, de, bordar, n, 5, alfabetos, em, ponto,...  portuguese   \n",
       "29  29  [mascara, fotosensible, careta, soldar, ploteo...     spanish   \n",
       "30  30  [cardone, 19, 2894, refabricados, de, importac...     spanish   \n",
       "31  31  [termotanque, electrico, 106, lts, ecotermo, c...     spanish   \n",
       "32  32    [avon, alhambra, piedra, pomez, y, desodorante]     spanish   \n",
       "33  33  [maquina, de, bordados, janome, modelo, mc, 37...  portuguese   \n",
       "34  34   [reparo, injecao, eletronica, cg150, fan, 16304]  portuguese   \n",
       "35  35  [valvula, solenoide, egr, vectra, e, omega, 1,...  portuguese   \n",
       "36  36                         [bloco, 8, furos, 9x19x19]  portuguese   \n",
       "37  37           [botoes, vidro, electrico, frelander, 1]  portuguese   \n",
       "38  38              [tambor, pork, pie, maple, americano]     spanish   \n",
       "39  39  [panchera, 30, salchichas, con, calienta, pan,...     spanish   \n",
       "\n",
       "                                category  \n",
       "0                            DIAPER_BAGS  \n",
       "1                     BABY_CHANGING_PADS  \n",
       "2              ENGINE_COOLING_FAN_MOTORS  \n",
       "3   AUTOMOTIVE_SHOCK_ABSORBER_BUMP_STOPS  \n",
       "4                         BABY_CAR_SEATS  \n",
       "5                      HAND_BRAKE_CABLES  \n",
       "6                               MINI_PCS  \n",
       "7                             XENON_KITS  \n",
       "8               MARTIAL_ARTS_FOOT_GUARDS  \n",
       "9                   HARD_DRIVES_AND_SSDS  \n",
       "10                         MEAT_GRINDERS  \n",
       "11                    BABY_CLOTHING_SETS  \n",
       "12                           SPARK_PLUGS  \n",
       "13                ENGINE_CONTROL_MODULES  \n",
       "14                              CROWBARS  \n",
       "15                                 HONEY  \n",
       "16                            SAXOPHONES  \n",
       "17                       SAFETY_FOOTWEAR  \n",
       "18                   MEMORY_CARD_READERS  \n",
       "19                         DJ_TURNTABLES  \n",
       "20                                TONFAS  \n",
       "21                              CUSHIONS  \n",
       "22                              SPEAKERS  \n",
       "23                          TENNIS_BALLS  \n",
       "24                      DRUM_BRAKE_SHOES  \n",
       "25                              UKULELES  \n",
       "26                      AIR_CONDITIONERS  \n",
       "27                           CATS_LITTER  \n",
       "28                             MAGAZINES  \n",
       "29                         WELDING_MASKS  \n",
       "30                       CAR_CARBURETORS  \n",
       "31                 STORAGE_WATER_HEATERS  \n",
       "32                            DEODORANTS  \n",
       "33                   EMBROIDERY_MACHINES  \n",
       "34                MOTORCYCLE_CARBURETORS  \n",
       "35                            EGR_VALVES  \n",
       "36                                BRICKS  \n",
       "37                   CAR_WINDOW_SWITCHES  \n",
       "38                           SNARE_DRUMS  \n",
       "39                      HOT_DOG_MACHINES  "
      ]
     },
     "execution_count": 14,
     "metadata": {},
     "output_type": "execute_result"
    }
   ],
   "source": [
    "preds_test = ensamble.predict(df_test)\n",
    "df_test[\"category\"] = preds_test\n",
    "#df_test[[\"id\",\"category\"]].to_csv(\"solution.csv\",index=None)\n",
    "df_test.head(40)"
   ]
  },
  {
   "cell_type": "markdown",
   "metadata": {},
   "source": [
    "# Ideas para probar\n",
    "\n",
    "1) jugar con los pesos de las filas utilizando el parámetro 'row_weights' (pesos distintos para reliable y unreliable)\n",
    "\n",
    "2) hacer CV para quedarse con filas de unreliable que parezcan bien etiquetadas"
   ]
  },
  {
   "cell_type": "code",
   "execution_count": null,
   "metadata": {},
   "outputs": [],
   "source": []
  }
 ],
 "metadata": {
  "kernelspec": {
   "display_name": "Python 3",
   "language": "python",
   "name": "python3"
  },
  "language_info": {
   "codemirror_mode": {
    "name": "ipython",
    "version": 3
   },
   "file_extension": ".py",
   "mimetype": "text/x-python",
   "name": "python",
   "nbconvert_exporter": "python",
   "pygments_lexer": "ipython3",
   "version": "3.6.8"
  }
 },
 "nbformat": 4,
 "nbformat_minor": 2
}
