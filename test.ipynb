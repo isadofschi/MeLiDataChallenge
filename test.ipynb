{
 "cells": [
  {
   "cell_type": "markdown",
   "metadata": {},
   "source": [
    "# Funciones y modelos"
   ]
  },
  {
   "cell_type": "code",
   "execution_count": 1,
   "metadata": {},
   "outputs": [],
   "source": [
    "from funciones import get_nontrivial_words\n",
    "from modelos import WordMagic, EnsambleSuma"
   ]
  },
  {
   "cell_type": "markdown",
   "metadata": {},
   "source": [
    "# Leemos los datos"
   ]
  },
  {
   "cell_type": "code",
   "execution_count": 2,
   "metadata": {},
   "outputs": [],
   "source": [
    "import pandas as pd\n",
    "df_train = pd.read_csv(\"train.csv\")\n",
    "df_test = pd.read_csv(\"test.csv\")"
   ]
  },
  {
   "cell_type": "markdown",
   "metadata": {},
   "source": [
    "# Procesamos los títulos para extraer palabras"
   ]
  },
  {
   "cell_type": "code",
   "execution_count": 3,
   "metadata": {},
   "outputs": [
    {
     "data": {
      "application/vnd.jupyter.widget-view+json": {
       "model_id": "0314454e895940fb8079dba197137229",
       "version_major": 2,
       "version_minor": 0
      },
      "text/plain": [
       "HBox(children=(IntProgress(value=0, max=20000000), HTML(value='')))"
      ]
     },
     "metadata": {},
     "output_type": "display_data"
    },
    {
     "name": "stdout",
     "output_type": "stream",
     "text": [
      "\n"
     ]
    },
    {
     "data": {
      "application/vnd.jupyter.widget-view+json": {
       "model_id": "a4514c11028040b5b121ee67b6776816",
       "version_major": 2,
       "version_minor": 0
      },
      "text/plain": [
       "HBox(children=(IntProgress(value=0, max=246955), HTML(value='')))"
      ]
     },
     "metadata": {},
     "output_type": "display_data"
    },
    {
     "name": "stdout",
     "output_type": "stream",
     "text": [
      "\n"
     ]
    }
   ],
   "source": [
    "from tqdm.auto import tqdm\n",
    "tqdm.pandas()\n",
    "df_train[\"title\"] = df_train['title'].progress_apply(get_nontrivial_words)\n",
    "df_test[\"title\"] = df_test['title'].progress_apply(get_nontrivial_words)"
   ]
  },
  {
   "cell_type": "markdown",
   "metadata": {},
   "source": [
    "# Class weights (elegidos para optimizar balanced accuracy)"
   ]
  },
  {
   "cell_type": "code",
   "execution_count": 4,
   "metadata": {},
   "outputs": [],
   "source": [
    "def cantidad_apariciones(df):\n",
    "    f ={}\n",
    "    l = list(df[\"category\"])\n",
    "    for c in l:\n",
    "        if c in f:\n",
    "            f[c]+=1\n",
    "        else:\n",
    "            f[c]=1\n",
    "    return f\n",
    "\n",
    "def frequencies(df):\n",
    "    f = cantidad_apariciones(df)\n",
    "    for c in f:\n",
    "        f[c]/=len(df)\n",
    "    return f\n",
    "\n",
    "freq = frequencies(df_train)\n",
    "class_weights = lambda c : 1/freq[c]"
   ]
  },
  {
   "cell_type": "markdown",
   "metadata": {},
   "source": [
    "# Entrenamos usando todo train y predecimos test"
   ]
  },
  {
   "cell_type": "code",
   "execution_count": 5,
   "metadata": {},
   "outputs": [
    {
     "name": "stdout",
     "output_type": "stream",
     "text": [
      "Extrayendo palabras de los títulos:\n"
     ]
    },
    {
     "data": {
      "application/vnd.jupyter.widget-view+json": {
       "model_id": "4fdbfcc651264984baab1e4900d49d9d",
       "version_major": 2,
       "version_minor": 0
      },
      "text/plain": [
       "HBox(children=(IntProgress(value=0, max=20000000), HTML(value='')))"
      ]
     },
     "metadata": {},
     "output_type": "display_data"
    },
    {
     "name": "stdout",
     "output_type": "stream",
     "text": [
      "\n",
      "Entrenando modelo en  1 -uplas...\n"
     ]
    },
    {
     "data": {
      "application/vnd.jupyter.widget-view+json": {
       "model_id": "3821f7b475b54fe1b2f1cce826193fcc",
       "version_major": 2,
       "version_minor": 0
      },
      "text/plain": [
       "HBox(children=(IntProgress(value=0, max=20000000), HTML(value='')))"
      ]
     },
     "metadata": {},
     "output_type": "display_data"
    },
    {
     "name": "stdout",
     "output_type": "stream",
     "text": [
      "\n",
      "Normalizando...\n"
     ]
    },
    {
     "data": {
      "application/vnd.jupyter.widget-view+json": {
       "model_id": "4f9c03343f4f47349ca6f8c3307bb9ec",
       "version_major": 2,
       "version_minor": 0
      },
      "text/plain": [
       "HBox(children=(IntProgress(value=0, max=2019953), HTML(value='')))"
      ]
     },
     "metadata": {},
     "output_type": "display_data"
    },
    {
     "name": "stdout",
     "output_type": "stream",
     "text": [
      "\n",
      "Entrenamiento completo.\n",
      "\n",
      "Extrayendo palabras de los títulos:\n"
     ]
    },
    {
     "data": {
      "application/vnd.jupyter.widget-view+json": {
       "model_id": "e2ee991c4d7341328bd6ac870f87f85b",
       "version_major": 2,
       "version_minor": 0
      },
      "text/plain": [
       "HBox(children=(IntProgress(value=0, max=20000000), HTML(value='')))"
      ]
     },
     "metadata": {},
     "output_type": "display_data"
    },
    {
     "name": "stdout",
     "output_type": "stream",
     "text": [
      "\n",
      "Entrenando modelo en  2 -uplas...\n"
     ]
    },
    {
     "data": {
      "application/vnd.jupyter.widget-view+json": {
       "model_id": "eff260982b724a268c41f44f43eaebc2",
       "version_major": 2,
       "version_minor": 0
      },
      "text/plain": [
       "HBox(children=(IntProgress(value=0, max=20000000), HTML(value='')))"
      ]
     },
     "metadata": {},
     "output_type": "display_data"
    },
    {
     "name": "stdout",
     "output_type": "stream",
     "text": [
      "\n",
      "Normalizando...\n"
     ]
    },
    {
     "data": {
      "application/vnd.jupyter.widget-view+json": {
       "model_id": "fe86bf9123b94953a7386a1e25040571",
       "version_major": 2,
       "version_minor": 0
      },
      "text/plain": [
       "HBox(children=(IntProgress(value=0, max=68808015), HTML(value='')))"
      ]
     },
     "metadata": {},
     "output_type": "display_data"
    },
    {
     "name": "stdout",
     "output_type": "stream",
     "text": [
      "\n",
      "Entrenamiento completo.\n",
      "\n",
      "Extrayendo palabras de los títulos:\n"
     ]
    },
    {
     "data": {
      "application/vnd.jupyter.widget-view+json": {
       "model_id": "29ca39b2151f43dda62286576beb51ee",
       "version_major": 2,
       "version_minor": 0
      },
      "text/plain": [
       "HBox(children=(IntProgress(value=0, max=20000000), HTML(value='')))"
      ]
     },
     "metadata": {},
     "output_type": "display_data"
    },
    {
     "name": "stdout",
     "output_type": "stream",
     "text": [
      "\n",
      "Entrenando modelo en  3 -uplas...\n"
     ]
    },
    {
     "data": {
      "application/vnd.jupyter.widget-view+json": {
       "model_id": "c28fed6c9b1a41ffbf3760568348c577",
       "version_major": 2,
       "version_minor": 0
      },
      "text/plain": [
       "HBox(children=(IntProgress(value=0, max=20000000), HTML(value='')))"
      ]
     },
     "metadata": {},
     "output_type": "display_data"
    },
    {
     "name": "stdout",
     "output_type": "stream",
     "text": [
      "\n",
      "Normalizando...\n"
     ]
    },
    {
     "data": {
      "application/vnd.jupyter.widget-view+json": {
       "model_id": "8172f7a40ca94655b95085ab6b60f14e",
       "version_major": 2,
       "version_minor": 0
      },
      "text/plain": [
       "HBox(children=(IntProgress(value=0, max=470645208), HTML(value='')))"
      ]
     },
     "metadata": {},
     "output_type": "display_data"
    },
    {
     "name": "stdout",
     "output_type": "stream",
     "text": [
      "\n",
      "Entrenamiento completo.\n",
      "\n"
     ]
    },
    {
     "data": {
      "application/vnd.jupyter.widget-view+json": {
       "model_id": "05f3846e65bc4019a471f864cceeb97a",
       "version_major": 2,
       "version_minor": 0
      },
      "text/plain": [
       "HBox(children=(IntProgress(value=0, max=246955), HTML(value='')))"
      ]
     },
     "metadata": {},
     "output_type": "display_data"
    },
    {
     "name": "stdout",
     "output_type": "stream",
     "text": [
      "\n"
     ]
    },
    {
     "data": {
      "text/html": [
       "<div>\n",
       "<style scoped>\n",
       "    .dataframe tbody tr th:only-of-type {\n",
       "        vertical-align: middle;\n",
       "    }\n",
       "\n",
       "    .dataframe tbody tr th {\n",
       "        vertical-align: top;\n",
       "    }\n",
       "\n",
       "    .dataframe thead th {\n",
       "        text-align: right;\n",
       "    }\n",
       "</style>\n",
       "<table border=\"1\" class=\"dataframe\">\n",
       "  <thead>\n",
       "    <tr style=\"text-align: right;\">\n",
       "      <th></th>\n",
       "      <th>id</th>\n",
       "      <th>title</th>\n",
       "      <th>language</th>\n",
       "      <th>category</th>\n",
       "    </tr>\n",
       "  </thead>\n",
       "  <tbody>\n",
       "    <tr>\n",
       "      <th>0</th>\n",
       "      <td>0</td>\n",
       "      <td>[kit, maternidade, bolsa, mala, baby, bebe, vi...</td>\n",
       "      <td>portuguese</td>\n",
       "      <td>DIAPER_BAGS</td>\n",
       "    </tr>\n",
       "    <tr>\n",
       "      <th>1</th>\n",
       "      <td>1</td>\n",
       "      <td>[trocador, de, fraldas, fisher, price, feminin...</td>\n",
       "      <td>portuguese</td>\n",
       "      <td>BABY_CHANGING_PADS</td>\n",
       "    </tr>\n",
       "    <tr>\n",
       "      <th>2</th>\n",
       "      <td>2</td>\n",
       "      <td>[motor, ventoinha, fiat, idea, palio, 1, 8, a,...</td>\n",
       "      <td>portuguese</td>\n",
       "      <td>ENGINE_COOLING_FAN_MOTORS</td>\n",
       "    </tr>\n",
       "    <tr>\n",
       "      <th>3</th>\n",
       "      <td>3</td>\n",
       "      <td>[amortecedor, mola, batente, d, dir, new, civi...</td>\n",
       "      <td>portuguese</td>\n",
       "      <td>AUTOMOTIVE_SHOCK_ABSORBER_BUMP_STOPS</td>\n",
       "    </tr>\n",
       "    <tr>\n",
       "      <th>4</th>\n",
       "      <td>4</td>\n",
       "      <td>[cadeirinha, de, carro, bebe, princesa, prince...</td>\n",
       "      <td>portuguese</td>\n",
       "      <td>BABY_CAR_SEATS</td>\n",
       "    </tr>\n",
       "    <tr>\n",
       "      <th>5</th>\n",
       "      <td>5</td>\n",
       "      <td>[cabo, freio, mao, tras, direito, vw, up, cod,...</td>\n",
       "      <td>portuguese</td>\n",
       "      <td>HAND_BRAKE_CABLES</td>\n",
       "    </tr>\n",
       "    <tr>\n",
       "      <th>6</th>\n",
       "      <td>6</td>\n",
       "      <td>[mini, pc, dell, optiplex, fx160, atom, 2gb, r...</td>\n",
       "      <td>portuguese</td>\n",
       "      <td>MINI_PCS</td>\n",
       "    </tr>\n",
       "    <tr>\n",
       "      <th>7</th>\n",
       "      <td>7</td>\n",
       "      <td>[kit, bi, xenon, lampada, h4, 8000k]</td>\n",
       "      <td>portuguese</td>\n",
       "      <td>XENON_KITS</td>\n",
       "    </tr>\n",
       "    <tr>\n",
       "      <th>8</th>\n",
       "      <td>8</td>\n",
       "      <td>[protetor, pe, botinha, kickboxing, karate, ta...</td>\n",
       "      <td>portuguese</td>\n",
       "      <td>MARTIAL_ARTS_FOOT_GUARDS</td>\n",
       "    </tr>\n",
       "    <tr>\n",
       "      <th>9</th>\n",
       "      <td>9</td>\n",
       "      <td>[disco, rigido, externo, western, digital, ele...</td>\n",
       "      <td>spanish</td>\n",
       "      <td>HARD_DRIVES_AND_SSDS</td>\n",
       "    </tr>\n",
       "    <tr>\n",
       "      <th>10</th>\n",
       "      <td>10</td>\n",
       "      <td>[picadora, de, carne, fineschi, legitima, 32]</td>\n",
       "      <td>spanish</td>\n",
       "      <td>MEAT_GRINDERS</td>\n",
       "    </tr>\n",
       "    <tr>\n",
       "      <th>11</th>\n",
       "      <td>11</td>\n",
       "      <td>[saida, maternidade, 1, manta, 2vestidos, 2cal...</td>\n",
       "      <td>portuguese</td>\n",
       "      <td>BABY_CLOTHING_SETS</td>\n",
       "    </tr>\n",
       "    <tr>\n",
       "      <th>12</th>\n",
       "      <td>12</td>\n",
       "      <td>[jogo, vela, ignicao, ngk, mercedes, benz, 08,...</td>\n",
       "      <td>portuguese</td>\n",
       "      <td>SPARK_PLUGS</td>\n",
       "    </tr>\n",
       "    <tr>\n",
       "      <th>13</th>\n",
       "      <td>13</td>\n",
       "      <td>[modulo, de, injecao, fox, flex, 1, 6, 032, 90...</td>\n",
       "      <td>portuguese</td>\n",
       "      <td>ENGINE_CONTROL_MODULES</td>\n",
       "    </tr>\n",
       "    <tr>\n",
       "      <th>14</th>\n",
       "      <td>14</td>\n",
       "      <td>[set, barreta, automotor, bremen, x3, unid, 67...</td>\n",
       "      <td>spanish</td>\n",
       "      <td>CROWBARS</td>\n",
       "    </tr>\n",
       "    <tr>\n",
       "      <th>15</th>\n",
       "      <td>15</td>\n",
       "      <td>[miel, organica, x250gr, sin, tacc]</td>\n",
       "      <td>spanish</td>\n",
       "      <td>HONEY</td>\n",
       "    </tr>\n",
       "    <tr>\n",
       "      <th>16</th>\n",
       "      <td>16</td>\n",
       "      <td>[sax, tenor, coon, 37m]</td>\n",
       "      <td>portuguese</td>\n",
       "      <td>SAXOPHONES</td>\n",
       "    </tr>\n",
       "    <tr>\n",
       "      <th>17</th>\n",
       "      <td>17</td>\n",
       "      <td>[sapato, seguranca, vaqueta, bidensidade, com,...</td>\n",
       "      <td>portuguese</td>\n",
       "      <td>SAFETY_FOOTWEAR</td>\n",
       "    </tr>\n",
       "    <tr>\n",
       "      <th>18</th>\n",
       "      <td>18</td>\n",
       "      <td>[200, adaptador, para, cartao, de, memoria, mi...</td>\n",
       "      <td>portuguese</td>\n",
       "      <td>MEMORY_CARD_READERS</td>\n",
       "    </tr>\n",
       "    <tr>\n",
       "      <th>19</th>\n",
       "      <td>19</td>\n",
       "      <td>[bandeja, giradiscos, omnitronic, bd1320]</td>\n",
       "      <td>spanish</td>\n",
       "      <td>DJ_TURNTABLES</td>\n",
       "    </tr>\n",
       "    <tr>\n",
       "      <th>20</th>\n",
       "      <td>20</td>\n",
       "      <td>[tonfa, militar]</td>\n",
       "      <td>portuguese</td>\n",
       "      <td>TONFAS</td>\n",
       "    </tr>\n",
       "    <tr>\n",
       "      <th>21</th>\n",
       "      <td>21</td>\n",
       "      <td>[kit, almohadones, y, funda, 2, respaldos, 2, ...</td>\n",
       "      <td>spanish</td>\n",
       "      <td>CUSHIONS</td>\n",
       "    </tr>\n",
       "    <tr>\n",
       "      <th>22</th>\n",
       "      <td>22</td>\n",
       "      <td>[parlante, portatil, hp, mini, roar, bluetooth...</td>\n",
       "      <td>spanish</td>\n",
       "      <td>SPEAKERS</td>\n",
       "    </tr>\n",
       "    <tr>\n",
       "      <th>23</th>\n",
       "      <td>23</td>\n",
       "      <td>[tubos, pelotas, slazenger, wimbledon, promo, ...</td>\n",
       "      <td>spanish</td>\n",
       "      <td>TENNIS_BALLS</td>\n",
       "    </tr>\n",
       "    <tr>\n",
       "      <th>24</th>\n",
       "      <td>24</td>\n",
       "      <td>[sapata, de, freio, jg, escort, zetec, 1, 8, 1...</td>\n",
       "      <td>portuguese</td>\n",
       "      <td>DRUM_BRAKE_SHOES</td>\n",
       "    </tr>\n",
       "    <tr>\n",
       "      <th>25</th>\n",
       "      <td>25</td>\n",
       "      <td>[ukelele, electroacustico, baritono, alpujarra...</td>\n",
       "      <td>spanish</td>\n",
       "      <td>UKULELES</td>\n",
       "    </tr>\n",
       "    <tr>\n",
       "      <th>26</th>\n",
       "      <td>26</td>\n",
       "      <td>[aire, split, frio, calor, 5332f, 6200w, fedde...</td>\n",
       "      <td>spanish</td>\n",
       "      <td>AIR_CONDITIONERS</td>\n",
       "    </tr>\n",
       "    <tr>\n",
       "      <th>27</th>\n",
       "      <td>27</td>\n",
       "      <td>[piedritas, sanitarias, stone, cat, x, 24kg, a...</td>\n",
       "      <td>spanish</td>\n",
       "      <td>CATS_LITTER</td>\n",
       "    </tr>\n",
       "    <tr>\n",
       "      <th>28</th>\n",
       "      <td>28</td>\n",
       "      <td>[arte, de, bordar, n, 5, alfabetos, em, ponto,...</td>\n",
       "      <td>portuguese</td>\n",
       "      <td>MAGAZINES</td>\n",
       "    </tr>\n",
       "    <tr>\n",
       "      <th>29</th>\n",
       "      <td>29</td>\n",
       "      <td>[mascara, fotosensible, careta, soldar, ploteo...</td>\n",
       "      <td>spanish</td>\n",
       "      <td>WELDING_MASKS</td>\n",
       "    </tr>\n",
       "    <tr>\n",
       "      <th>30</th>\n",
       "      <td>30</td>\n",
       "      <td>[cardone, 19, 2894, refabricados, de, importac...</td>\n",
       "      <td>spanish</td>\n",
       "      <td>CAR_CARBURETORS</td>\n",
       "    </tr>\n",
       "    <tr>\n",
       "      <th>31</th>\n",
       "      <td>31</td>\n",
       "      <td>[termotanque, electrico, 106, lts, ecotermo, c...</td>\n",
       "      <td>spanish</td>\n",
       "      <td>STORAGE_WATER_HEATERS</td>\n",
       "    </tr>\n",
       "    <tr>\n",
       "      <th>32</th>\n",
       "      <td>32</td>\n",
       "      <td>[avon, alhambra, piedra, pomez, y, desodorante]</td>\n",
       "      <td>spanish</td>\n",
       "      <td>DEODORANTS</td>\n",
       "    </tr>\n",
       "    <tr>\n",
       "      <th>33</th>\n",
       "      <td>33</td>\n",
       "      <td>[maquina, de, bordados, janome, modelo, mc, 37...</td>\n",
       "      <td>portuguese</td>\n",
       "      <td>EMBROIDERY_MACHINES</td>\n",
       "    </tr>\n",
       "    <tr>\n",
       "      <th>34</th>\n",
       "      <td>34</td>\n",
       "      <td>[reparo, injecao, eletronica, cg150, fan, 16304]</td>\n",
       "      <td>portuguese</td>\n",
       "      <td>MOTORCYCLE_CARBURETORS</td>\n",
       "    </tr>\n",
       "    <tr>\n",
       "      <th>35</th>\n",
       "      <td>35</td>\n",
       "      <td>[valvula, solenoide, egr, vectra, e, omega, 1,...</td>\n",
       "      <td>portuguese</td>\n",
       "      <td>EGR_VALVES</td>\n",
       "    </tr>\n",
       "    <tr>\n",
       "      <th>36</th>\n",
       "      <td>36</td>\n",
       "      <td>[bloco, 8, furos, 9x19x19]</td>\n",
       "      <td>portuguese</td>\n",
       "      <td>BRICKS</td>\n",
       "    </tr>\n",
       "    <tr>\n",
       "      <th>37</th>\n",
       "      <td>37</td>\n",
       "      <td>[botoes, vidro, electrico, frelander, 1]</td>\n",
       "      <td>portuguese</td>\n",
       "      <td>CAR_WINDOW_SWITCHES</td>\n",
       "    </tr>\n",
       "    <tr>\n",
       "      <th>38</th>\n",
       "      <td>38</td>\n",
       "      <td>[tambor, pork, pie, maple, americano]</td>\n",
       "      <td>spanish</td>\n",
       "      <td>SNARE_DRUMS</td>\n",
       "    </tr>\n",
       "    <tr>\n",
       "      <th>39</th>\n",
       "      <td>39</td>\n",
       "      <td>[panchera, 30, salchichas, con, calienta, pan,...</td>\n",
       "      <td>spanish</td>\n",
       "      <td>HOT_DOG_MACHINES</td>\n",
       "    </tr>\n",
       "  </tbody>\n",
       "</table>\n",
       "</div>"
      ],
      "text/plain": [
       "    id                                              title    language  \\\n",
       "0    0  [kit, maternidade, bolsa, mala, baby, bebe, vi...  portuguese   \n",
       "1    1  [trocador, de, fraldas, fisher, price, feminin...  portuguese   \n",
       "2    2  [motor, ventoinha, fiat, idea, palio, 1, 8, a,...  portuguese   \n",
       "3    3  [amortecedor, mola, batente, d, dir, new, civi...  portuguese   \n",
       "4    4  [cadeirinha, de, carro, bebe, princesa, prince...  portuguese   \n",
       "5    5  [cabo, freio, mao, tras, direito, vw, up, cod,...  portuguese   \n",
       "6    6  [mini, pc, dell, optiplex, fx160, atom, 2gb, r...  portuguese   \n",
       "7    7               [kit, bi, xenon, lampada, h4, 8000k]  portuguese   \n",
       "8    8  [protetor, pe, botinha, kickboxing, karate, ta...  portuguese   \n",
       "9    9  [disco, rigido, externo, western, digital, ele...     spanish   \n",
       "10  10      [picadora, de, carne, fineschi, legitima, 32]     spanish   \n",
       "11  11  [saida, maternidade, 1, manta, 2vestidos, 2cal...  portuguese   \n",
       "12  12  [jogo, vela, ignicao, ngk, mercedes, benz, 08,...  portuguese   \n",
       "13  13  [modulo, de, injecao, fox, flex, 1, 6, 032, 90...  portuguese   \n",
       "14  14  [set, barreta, automotor, bremen, x3, unid, 67...     spanish   \n",
       "15  15                [miel, organica, x250gr, sin, tacc]     spanish   \n",
       "16  16                            [sax, tenor, coon, 37m]  portuguese   \n",
       "17  17  [sapato, seguranca, vaqueta, bidensidade, com,...  portuguese   \n",
       "18  18  [200, adaptador, para, cartao, de, memoria, mi...  portuguese   \n",
       "19  19          [bandeja, giradiscos, omnitronic, bd1320]     spanish   \n",
       "20  20                                   [tonfa, militar]  portuguese   \n",
       "21  21  [kit, almohadones, y, funda, 2, respaldos, 2, ...     spanish   \n",
       "22  22  [parlante, portatil, hp, mini, roar, bluetooth...     spanish   \n",
       "23  23  [tubos, pelotas, slazenger, wimbledon, promo, ...     spanish   \n",
       "24  24  [sapata, de, freio, jg, escort, zetec, 1, 8, 1...  portuguese   \n",
       "25  25  [ukelele, electroacustico, baritono, alpujarra...     spanish   \n",
       "26  26  [aire, split, frio, calor, 5332f, 6200w, fedde...     spanish   \n",
       "27  27  [piedritas, sanitarias, stone, cat, x, 24kg, a...     spanish   \n",
       "28  28  [arte, de, bordar, n, 5, alfabetos, em, ponto,...  portuguese   \n",
       "29  29  [mascara, fotosensible, careta, soldar, ploteo...     spanish   \n",
       "30  30  [cardone, 19, 2894, refabricados, de, importac...     spanish   \n",
       "31  31  [termotanque, electrico, 106, lts, ecotermo, c...     spanish   \n",
       "32  32    [avon, alhambra, piedra, pomez, y, desodorante]     spanish   \n",
       "33  33  [maquina, de, bordados, janome, modelo, mc, 37...  portuguese   \n",
       "34  34   [reparo, injecao, eletronica, cg150, fan, 16304]  portuguese   \n",
       "35  35  [valvula, solenoide, egr, vectra, e, omega, 1,...  portuguese   \n",
       "36  36                         [bloco, 8, furos, 9x19x19]  portuguese   \n",
       "37  37           [botoes, vidro, electrico, frelander, 1]  portuguese   \n",
       "38  38              [tambor, pork, pie, maple, americano]     spanish   \n",
       "39  39  [panchera, 30, salchichas, con, calienta, pan,...     spanish   \n",
       "\n",
       "                                category  \n",
       "0                            DIAPER_BAGS  \n",
       "1                     BABY_CHANGING_PADS  \n",
       "2              ENGINE_COOLING_FAN_MOTORS  \n",
       "3   AUTOMOTIVE_SHOCK_ABSORBER_BUMP_STOPS  \n",
       "4                         BABY_CAR_SEATS  \n",
       "5                      HAND_BRAKE_CABLES  \n",
       "6                               MINI_PCS  \n",
       "7                             XENON_KITS  \n",
       "8               MARTIAL_ARTS_FOOT_GUARDS  \n",
       "9                   HARD_DRIVES_AND_SSDS  \n",
       "10                         MEAT_GRINDERS  \n",
       "11                    BABY_CLOTHING_SETS  \n",
       "12                           SPARK_PLUGS  \n",
       "13                ENGINE_CONTROL_MODULES  \n",
       "14                              CROWBARS  \n",
       "15                                 HONEY  \n",
       "16                            SAXOPHONES  \n",
       "17                       SAFETY_FOOTWEAR  \n",
       "18                   MEMORY_CARD_READERS  \n",
       "19                         DJ_TURNTABLES  \n",
       "20                                TONFAS  \n",
       "21                              CUSHIONS  \n",
       "22                              SPEAKERS  \n",
       "23                          TENNIS_BALLS  \n",
       "24                      DRUM_BRAKE_SHOES  \n",
       "25                              UKULELES  \n",
       "26                      AIR_CONDITIONERS  \n",
       "27                           CATS_LITTER  \n",
       "28                             MAGAZINES  \n",
       "29                         WELDING_MASKS  \n",
       "30                       CAR_CARBURETORS  \n",
       "31                 STORAGE_WATER_HEATERS  \n",
       "32                            DEODORANTS  \n",
       "33                   EMBROIDERY_MACHINES  \n",
       "34                MOTORCYCLE_CARBURETORS  \n",
       "35                            EGR_VALVES  \n",
       "36                                BRICKS  \n",
       "37                   CAR_WINDOW_SWITCHES  \n",
       "38                           SNARE_DRUMS  \n",
       "39                      HOT_DOG_MACHINES  "
      ]
     },
     "execution_count": 5,
     "metadata": {},
     "output_type": "execute_result"
    }
   ],
   "source": [
    "model1 = WordMagic(\n",
    "    n = 1,\n",
    "    word_getter = lambda x : x,\n",
    "    class_weights = class_weights,\n",
    "    normalizar_predict_proba = False,\n",
    "    sacar_repetidos = False,\n",
    ")\n",
    "model2 = WordMagic(\n",
    "    n = 2,\n",
    "    word_getter = lambda x : x,\n",
    "    class_weights = class_weights,\n",
    "    normalizar_predict_proba = False,\n",
    ")\n",
    "model3 = WordMagic(\n",
    "    n = 3,\n",
    "    word_getter = lambda x : x,\n",
    "    class_weights = class_weights,\n",
    "    normalizar_predict_proba = False,\n",
    ")\n",
    "\n",
    "model1.fit(df_train)\n",
    "model2.fit(df_train)\n",
    "model3.fit(df_train)\n",
    "\n",
    "ensamble = EnsambleSuma( [model1, model2, model3], pesos = [1,1,1], random_guess = \"ICE_CREAM_MACHINES\")\n",
    "\n",
    "preds_test = ensamble.predict(df_test)\n",
    "\n",
    "\n",
    "df_test[\"category\"] = preds_test\n",
    "df_test[[\"id\",\"category\"]].to_csv(\"solution.csv\",index=None)\n",
    "df_test.head(40)"
   ]
  }
 ],
 "metadata": {
  "kernelspec": {
   "display_name": "Python 3",
   "language": "python",
   "name": "python3"
  },
  "language_info": {
   "codemirror_mode": {
    "name": "ipython",
    "version": 3
   },
   "file_extension": ".py",
   "mimetype": "text/x-python",
   "name": "python",
   "nbconvert_exporter": "python",
   "pygments_lexer": "ipython3",
   "version": "3.6.8"
  }
 },
 "nbformat": 4,
 "nbformat_minor": 2
}
